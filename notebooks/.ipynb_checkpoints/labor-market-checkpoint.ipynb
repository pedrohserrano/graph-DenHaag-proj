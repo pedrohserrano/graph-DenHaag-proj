{
 "cells": [
  {
   "cell_type": "markdown",
   "metadata": {},
   "source": [
    "### Labor market situation for young people (15 to 27 years); region (classification 2017)"
   ]
  },
  {
   "cell_type": "code",
   "execution_count": 2,
   "metadata": {},
   "outputs": [],
   "source": [
    "import pandas as pd\n",
    "import requests\n",
    "import json\n",
    "from pandas.io.json import json_normalize"
   ]
  },
  {
   "cell_type": "markdown",
   "metadata": {},
   "source": [
    "This table contains information on the regional labor market situation of all young people aged 15 to 27 in the Netherlands who were registered in the Basic Persons Registration (BRP) on 1 October of the reference year. It indicates whether young people work, whether they go to school, whether they receive a benefit and whether they are registered as a job-seeker with the UWV Werkbedrijf. For the active young people, a distinction is made between employees and the self-employed. This table also includes all benefits in the context of social security relating to incapacity for work, sickness, unemployment or assistance. The total number of young people (15 to 27 years) with a benefit within this table is higher than in other StatLine tables on social security.\n",
    "\n",
    "The reporting period is the month of October of the reference year. Whether someone goes to school is determined on the basis of a registration in the government-funded education on 1 October of the reference year.\n",
    "\n",
    "The municipalities are classified according to the situation on 1 January 2017.\n",
    "\n",
    "Data available from 2005 up to and including 2016. The figures relate to the situation in October of the relevant year.\n",
    "\n",
    "Status of the figures: The figures for the years 2005 up to and including 2015 in this table are definitive. The figures for 2016 are provisional.\n",
    "\n",
    "Changes as of April 18, 2018: In the previous version the region \"West Netherlands, excluding G4\" was wrongly included. This region has been removed in this version.\n",
    "\n",
    "Changes as of April 12, 2018: None, this is a new table.\n",
    "\n",
    "When will new figures arrive? The figures for 2017 will be published in spring 2019 in a new table with the regional classification of 2018.\n",
    "\n",
    "[Open Data Source](https://data.overheid.nl/data/dataset/arbeidsmarktsituatie-jongeren-15-tot-27-jaar-regio-indeling-2017-)  \n",
    "[License](https://data.overheid.nl/licenties-voor-hergebruik) CC-BY 4.0"
   ]
  },
  {
   "cell_type": "code",
   "execution_count": 5,
   "metadata": {},
   "outputs": [],
   "source": [
    "request = requests.get(\"https://opendata.cbs.nl/ODataApi/OData/83969NED\")"
   ]
  },
  {
   "cell_type": "code",
   "execution_count": 7,
   "metadata": {},
   "outputs": [
    {
     "name": "stdout",
     "output_type": "stream",
     "text": [
      "{'url': 'http://opendata.cbs.nl/ODataApi/OData/83969NED/TableInfos', 'name': 'TableInfos'}\n",
      "{'url': 'http://opendata.cbs.nl/ODataApi/OData/83969NED/UntypedDataSet', 'name': 'UntypedDataSet'}\n",
      "{'url': 'http://opendata.cbs.nl/ODataApi/OData/83969NED/TypedDataSet', 'name': 'TypedDataSet'}\n",
      "{'url': 'http://opendata.cbs.nl/ODataApi/OData/83969NED/DataProperties', 'name': 'DataProperties'}\n",
      "{'url': 'http://opendata.cbs.nl/ODataApi/OData/83969NED/CategoryGroups', 'name': 'CategoryGroups'}\n",
      "{'url': 'http://opendata.cbs.nl/ODataApi/OData/83969NED/Onderwijsdeelname', 'name': 'Onderwijsdeelname'}\n",
      "{'url': 'http://opendata.cbs.nl/ODataApi/OData/83969NED/KenmerkenArbeid', 'name': 'KenmerkenArbeid'}\n",
      "{'url': 'http://opendata.cbs.nl/ODataApi/OData/83969NED/Uitkering', 'name': 'Uitkering'}\n",
      "{'url': 'http://opendata.cbs.nl/ODataApi/OData/83969NED/IngeschrevenUWVWerkbedrijf', 'name': 'IngeschrevenUWVWerkbedrijf'}\n",
      "{'url': 'http://opendata.cbs.nl/ODataApi/OData/83969NED/RegioS', 'name': 'RegioS'}\n",
      "{'url': 'http://opendata.cbs.nl/ODataApi/OData/83969NED/Perioden', 'name': 'Perioden'}\n"
     ]
    }
   ],
   "source": [
    "for line in json.loads(request.text)['value']:\n",
    "    print(line)"
   ]
  },
  {
   "cell_type": "code",
   "execution_count": 8,
   "metadata": {},
   "outputs": [],
   "source": [
    "request = requests.get('http://opendata.cbs.nl/ODataApi/OData/83969NED/CategoryGroups')\n",
    "table = json_normalize(json.loads(request.text)['value'])"
   ]
  },
  {
   "cell_type": "code",
   "execution_count": 9,
   "metadata": {},
   "outputs": [
    {
     "data": {
      "text/html": [
       "<div>\n",
       "<style scoped>\n",
       "    .dataframe tbody tr th:only-of-type {\n",
       "        vertical-align: middle;\n",
       "    }\n",
       "\n",
       "    .dataframe tbody tr th {\n",
       "        vertical-align: top;\n",
       "    }\n",
       "\n",
       "    .dataframe thead th {\n",
       "        text-align: right;\n",
       "    }\n",
       "</style>\n",
       "<table border=\"1\" class=\"dataframe\">\n",
       "  <thead>\n",
       "    <tr style=\"text-align: right;\">\n",
       "      <th></th>\n",
       "      <th>Description</th>\n",
       "      <th>DimensionKey</th>\n",
       "      <th>ID</th>\n",
       "      <th>ParentID</th>\n",
       "      <th>Title</th>\n",
       "    </tr>\n",
       "  </thead>\n",
       "  <tbody>\n",
       "    <tr>\n",
       "      <th>0</th>\n",
       "      <td>NA</td>\n",
       "      <td>KenmerkenArbeid</td>\n",
       "      <td>0</td>\n",
       "      <td>NaN</td>\n",
       "      <td>Totaal</td>\n",
       "    </tr>\n",
       "    <tr>\n",
       "      <th>1</th>\n",
       "      <td>None</td>\n",
       "      <td>KenmerkenArbeid</td>\n",
       "      <td>1</td>\n",
       "      <td>0.0</td>\n",
       "      <td>Totaal</td>\n",
       "    </tr>\n",
       "    <tr>\n",
       "      <th>2</th>\n",
       "      <td></td>\n",
       "      <td>KenmerkenArbeid</td>\n",
       "      <td>2</td>\n",
       "      <td>0.0</td>\n",
       "      <td>Arbeidspositie</td>\n",
       "    </tr>\n",
       "    <tr>\n",
       "      <th>3</th>\n",
       "      <td>Indeling van de werkzame beroepsbevolking naar...</td>\n",
       "      <td>KenmerkenArbeid</td>\n",
       "      <td>3</td>\n",
       "      <td>0.0</td>\n",
       "      <td>Positie in de werkkring</td>\n",
       "    </tr>\n",
       "  </tbody>\n",
       "</table>\n",
       "</div>"
      ],
      "text/plain": [
       "                                         Description     DimensionKey  ID  \\\n",
       "0                                                 NA  KenmerkenArbeid   0   \n",
       "1                                               None  KenmerkenArbeid   1   \n",
       "2                                                     KenmerkenArbeid   2   \n",
       "3  Indeling van de werkzame beroepsbevolking naar...  KenmerkenArbeid   3   \n",
       "\n",
       "   ParentID                    Title  \n",
       "0       NaN                   Totaal  \n",
       "1       0.0                   Totaal  \n",
       "2       0.0           Arbeidspositie  \n",
       "3       0.0  Positie in de werkkring  "
      ]
     },
     "execution_count": 9,
     "metadata": {},
     "output_type": "execute_result"
    }
   ],
   "source": [
    "table"
   ]
  },
  {
   "cell_type": "code",
   "execution_count": 14,
   "metadata": {},
   "outputs": [],
   "source": [
    "request1 = requests.get('http://opendata.cbs.nl/ODataApi/OData/83969NED/DataProperties')\n",
    "table1 = json_normalize(json.loads(request1.text)['value'])"
   ]
  },
  {
   "cell_type": "code",
   "execution_count": 15,
   "metadata": {},
   "outputs": [
    {
     "data": {
      "text/html": [
       "<div>\n",
       "<style scoped>\n",
       "    .dataframe tbody tr th:only-of-type {\n",
       "        vertical-align: middle;\n",
       "    }\n",
       "\n",
       "    .dataframe tbody tr th {\n",
       "        vertical-align: top;\n",
       "    }\n",
       "\n",
       "    .dataframe thead th {\n",
       "        text-align: right;\n",
       "    }\n",
       "</style>\n",
       "<table border=\"1\" class=\"dataframe\">\n",
       "  <thead>\n",
       "    <tr style=\"text-align: right;\">\n",
       "      <th></th>\n",
       "      <th>Datatype</th>\n",
       "      <th>Decimals</th>\n",
       "      <th>Default</th>\n",
       "      <th>Description</th>\n",
       "      <th>ID</th>\n",
       "      <th>Key</th>\n",
       "      <th>MapYear</th>\n",
       "      <th>ParentID</th>\n",
       "      <th>Position</th>\n",
       "      <th>PresentationType</th>\n",
       "      <th>ReleasePolicy</th>\n",
       "      <th>Title</th>\n",
       "      <th>Type</th>\n",
       "      <th>Unit</th>\n",
       "      <th>odata.type</th>\n",
       "    </tr>\n",
       "  </thead>\n",
       "  <tbody>\n",
       "    <tr>\n",
       "      <th>0</th>\n",
       "      <td>NaN</td>\n",
       "      <td>NaN</td>\n",
       "      <td>NaN</td>\n",
       "      <td></td>\n",
       "      <td>0</td>\n",
       "      <td>Onderwijsdeelname</td>\n",
       "      <td>NaN</td>\n",
       "      <td>None</td>\n",
       "      <td>0</td>\n",
       "      <td>NaN</td>\n",
       "      <td>NaN</td>\n",
       "      <td>Onderwijsdeelname</td>\n",
       "      <td>Dimension</td>\n",
       "      <td>NaN</td>\n",
       "      <td>Cbs.OData.Dimension</td>\n",
       "    </tr>\n",
       "    <tr>\n",
       "      <th>1</th>\n",
       "      <td>NaN</td>\n",
       "      <td>NaN</td>\n",
       "      <td>NaN</td>\n",
       "      <td></td>\n",
       "      <td>1</td>\n",
       "      <td>KenmerkenArbeid</td>\n",
       "      <td>NaN</td>\n",
       "      <td>None</td>\n",
       "      <td>1</td>\n",
       "      <td>NaN</td>\n",
       "      <td>NaN</td>\n",
       "      <td>Kenmerken arbeid</td>\n",
       "      <td>Dimension</td>\n",
       "      <td>NaN</td>\n",
       "      <td>Cbs.OData.Dimension</td>\n",
       "    </tr>\n",
       "    <tr>\n",
       "      <th>2</th>\n",
       "      <td>NaN</td>\n",
       "      <td>NaN</td>\n",
       "      <td>NaN</td>\n",
       "      <td></td>\n",
       "      <td>2</td>\n",
       "      <td>Uitkering</td>\n",
       "      <td>NaN</td>\n",
       "      <td>None</td>\n",
       "      <td>2</td>\n",
       "      <td>NaN</td>\n",
       "      <td>NaN</td>\n",
       "      <td>Uitkering</td>\n",
       "      <td>Dimension</td>\n",
       "      <td>NaN</td>\n",
       "      <td>Cbs.OData.Dimension</td>\n",
       "    </tr>\n",
       "    <tr>\n",
       "      <th>3</th>\n",
       "      <td>NaN</td>\n",
       "      <td>NaN</td>\n",
       "      <td>NaN</td>\n",
       "      <td></td>\n",
       "      <td>3</td>\n",
       "      <td>IngeschrevenUWVWerkbedrijf</td>\n",
       "      <td>NaN</td>\n",
       "      <td>None</td>\n",
       "      <td>3</td>\n",
       "      <td>NaN</td>\n",
       "      <td>NaN</td>\n",
       "      <td>Ingeschreven UWV werkbedrijf</td>\n",
       "      <td>Dimension</td>\n",
       "      <td>NaN</td>\n",
       "      <td>Cbs.OData.Dimension</td>\n",
       "    </tr>\n",
       "    <tr>\n",
       "      <th>4</th>\n",
       "      <td>NaN</td>\n",
       "      <td>NaN</td>\n",
       "      <td>NaN</td>\n",
       "      <td></td>\n",
       "      <td>4</td>\n",
       "      <td>RegioS</td>\n",
       "      <td>2017.0</td>\n",
       "      <td>None</td>\n",
       "      <td>4</td>\n",
       "      <td>NaN</td>\n",
       "      <td>NaN</td>\n",
       "      <td>Regio's</td>\n",
       "      <td>GeoDimension</td>\n",
       "      <td>NaN</td>\n",
       "      <td>Cbs.OData.GeoDimension</td>\n",
       "    </tr>\n",
       "    <tr>\n",
       "      <th>5</th>\n",
       "      <td>NaN</td>\n",
       "      <td>NaN</td>\n",
       "      <td>NaN</td>\n",
       "      <td></td>\n",
       "      <td>5</td>\n",
       "      <td>Perioden</td>\n",
       "      <td>NaN</td>\n",
       "      <td>None</td>\n",
       "      <td>5</td>\n",
       "      <td>NaN</td>\n",
       "      <td>True</td>\n",
       "      <td>Perioden</td>\n",
       "      <td>TimeDimension</td>\n",
       "      <td>NaN</td>\n",
       "      <td>Cbs.OData.TimeDimension</td>\n",
       "    </tr>\n",
       "    <tr>\n",
       "      <th>6</th>\n",
       "      <td>Long</td>\n",
       "      <td>0.0</td>\n",
       "      <td>Missing</td>\n",
       "      <td>Aantal jongeren dat in Nederland woont.\\r\\n\\r\\...</td>\n",
       "      <td>6</td>\n",
       "      <td>Jongeren15Tot27Jaar_1</td>\n",
       "      <td>NaN</td>\n",
       "      <td>None</td>\n",
       "      <td>6</td>\n",
       "      <td>Absolute</td>\n",
       "      <td>NaN</td>\n",
       "      <td>Jongeren (15 tot 27 jaar)</td>\n",
       "      <td>Topic</td>\n",
       "      <td>aantal</td>\n",
       "      <td>Cbs.OData.Topic</td>\n",
       "    </tr>\n",
       "  </tbody>\n",
       "</table>\n",
       "</div>"
      ],
      "text/plain": [
       "  Datatype  Decimals  Default  \\\n",
       "0      NaN       NaN      NaN   \n",
       "1      NaN       NaN      NaN   \n",
       "2      NaN       NaN      NaN   \n",
       "3      NaN       NaN      NaN   \n",
       "4      NaN       NaN      NaN   \n",
       "5      NaN       NaN      NaN   \n",
       "6     Long       0.0  Missing   \n",
       "\n",
       "                                         Description  ID  \\\n",
       "0                                                      0   \n",
       "1                                                      1   \n",
       "2                                                      2   \n",
       "3                                                      3   \n",
       "4                                                      4   \n",
       "5                                                      5   \n",
       "6  Aantal jongeren dat in Nederland woont.\\r\\n\\r\\...   6   \n",
       "\n",
       "                          Key  MapYear ParentID  Position PresentationType  \\\n",
       "0           Onderwijsdeelname      NaN     None         0              NaN   \n",
       "1             KenmerkenArbeid      NaN     None         1              NaN   \n",
       "2                   Uitkering      NaN     None         2              NaN   \n",
       "3  IngeschrevenUWVWerkbedrijf      NaN     None         3              NaN   \n",
       "4                      RegioS   2017.0     None         4              NaN   \n",
       "5                    Perioden      NaN     None         5              NaN   \n",
       "6       Jongeren15Tot27Jaar_1      NaN     None         6         Absolute   \n",
       "\n",
       "  ReleasePolicy                         Title           Type    Unit  \\\n",
       "0           NaN             Onderwijsdeelname      Dimension     NaN   \n",
       "1           NaN              Kenmerken arbeid      Dimension     NaN   \n",
       "2           NaN                     Uitkering      Dimension     NaN   \n",
       "3           NaN  Ingeschreven UWV werkbedrijf      Dimension     NaN   \n",
       "4           NaN                       Regio's   GeoDimension     NaN   \n",
       "5          True                      Perioden  TimeDimension     NaN   \n",
       "6           NaN     Jongeren (15 tot 27 jaar)          Topic  aantal   \n",
       "\n",
       "                odata.type  \n",
       "0      Cbs.OData.Dimension  \n",
       "1      Cbs.OData.Dimension  \n",
       "2      Cbs.OData.Dimension  \n",
       "3      Cbs.OData.Dimension  \n",
       "4   Cbs.OData.GeoDimension  \n",
       "5  Cbs.OData.TimeDimension  \n",
       "6          Cbs.OData.Topic  "
      ]
     },
     "execution_count": 15,
     "metadata": {},
     "output_type": "execute_result"
    }
   ],
   "source": [
    "table1"
   ]
  },
  {
   "cell_type": "code",
   "execution_count": 16,
   "metadata": {},
   "outputs": [],
   "source": [
    "request2 = requests.get('http://opendata.cbs.nl/ODataApi/OData/83969NED/Onderwijsdeelname')\n",
    "table2 = json_normalize(json.loads(request2.text)['value'])"
   ]
  },
  {
   "cell_type": "code",
   "execution_count": 108,
   "metadata": {},
   "outputs": [],
   "source": [
    "table2.to_csv('Onderwijsdeelname.csv')"
   ]
  },
  {
   "cell_type": "code",
   "execution_count": 18,
   "metadata": {},
   "outputs": [],
   "source": [
    "request3 = requests.get('http://opendata.cbs.nl/ODataApi/OData/83969NED/KenmerkenArbeid')\n",
    "table3 = json_normalize(json.loads(request3.text)['value'])"
   ]
  },
  {
   "cell_type": "code",
   "execution_count": 109,
   "metadata": {},
   "outputs": [],
   "source": [
    "table3.to_csv('KenmerkenArbeid.csv')"
   ]
  },
  {
   "cell_type": "code",
   "execution_count": 20,
   "metadata": {},
   "outputs": [],
   "source": [
    "request4 = requests.get('http://opendata.cbs.nl/ODataApi/OData/83969NED/Uitkering')\n",
    "table4 = json_normalize(json.loads(request4.text)['value'])"
   ]
  },
  {
   "cell_type": "code",
   "execution_count": 110,
   "metadata": {},
   "outputs": [],
   "source": [
    "table4.to_csv('Uitkering.csv')"
   ]
  },
  {
   "cell_type": "code",
   "execution_count": 24,
   "metadata": {},
   "outputs": [],
   "source": [
    "request5 = requests.get('http://opendata.cbs.nl/ODataApi/OData/83969NED/IngeschrevenUWVWerkbedrijf')\n",
    "table5 = json_normalize(json.loads(request5.text)['value'])"
   ]
  },
  {
   "cell_type": "code",
   "execution_count": 111,
   "metadata": {},
   "outputs": [],
   "source": [
    "table5.to_csv('IngeschrevenUWVWerkbedrijf.csv')"
   ]
  },
  {
   "cell_type": "code",
   "execution_count": 26,
   "metadata": {},
   "outputs": [],
   "source": [
    "request6 = requests.get('http://opendata.cbs.nl/ODataApi/OData/83969NED/RegioS')\n",
    "table6 = json_normalize(json.loads(request6.text)['value'])"
   ]
  },
  {
   "cell_type": "code",
   "execution_count": 112,
   "metadata": {},
   "outputs": [],
   "source": [
    "table6.to_csv('RegioS.csv')"
   ]
  },
  {
   "cell_type": "code",
   "execution_count": 29,
   "metadata": {},
   "outputs": [],
   "source": [
    "request7 = requests.get('http://opendata.cbs.nl/ODataApi/OData/83969NED/Perioden')\n",
    "table7 = json_normalize(json.loads(request7.text)['value'])"
   ]
  },
  {
   "cell_type": "code",
   "execution_count": 113,
   "metadata": {},
   "outputs": [],
   "source": [
    "table7.to_csv('Perioden.csv')"
   ]
  },
  {
   "cell_type": "code",
   "execution_count": 36,
   "metadata": {},
   "outputs": [
    {
     "name": "stderr",
     "output_type": "stream",
     "text": [
      "/Users/pedrohserrano/anaconda3/envs/py35r/lib/python3.5/site-packages/IPython/core/interactiveshell.py:2728: DtypeWarning: Columns (1,2,3) have mixed types. Specify dtype option on import or set low_memory=False.\n",
      "  interactivity=interactivity, compiler=compiler, result=result)\n"
     ]
    }
   ],
   "source": [
    "table0 = pd.read_csv('labor-market-netherlands.csv', sep =';', index_col=False)"
   ]
  },
  {
   "cell_type": "code",
   "execution_count": 38,
   "metadata": {},
   "outputs": [
    {
     "data": {
      "text/html": [
       "<div>\n",
       "<style scoped>\n",
       "    .dataframe tbody tr th:only-of-type {\n",
       "        vertical-align: middle;\n",
       "    }\n",
       "\n",
       "    .dataframe tbody tr th {\n",
       "        vertical-align: top;\n",
       "    }\n",
       "\n",
       "    .dataframe thead th {\n",
       "        text-align: right;\n",
       "    }\n",
       "</style>\n",
       "<table border=\"1\" class=\"dataframe\">\n",
       "  <thead>\n",
       "    <tr style=\"text-align: right;\">\n",
       "      <th></th>\n",
       "      <th>ID</th>\n",
       "      <th>Participation in education</th>\n",
       "      <th>features Work</th>\n",
       "      <th>Payment</th>\n",
       "      <th>Signed CWI</th>\n",
       "      <th>REGIOS</th>\n",
       "      <th>The period</th>\n",
       "      <th>Youth 15 to 27 Years</th>\n",
       "    </tr>\n",
       "  </thead>\n",
       "  <tbody>\n",
       "    <tr>\n",
       "      <th>0</th>\n",
       "      <td>0</td>\n",
       "      <td>T001144</td>\n",
       "      <td>T001095</td>\n",
       "      <td>T000000</td>\n",
       "      <td>T001266</td>\n",
       "      <td>NL01</td>\n",
       "      <td>2005JJ00</td>\n",
       "      <td>2351600</td>\n",
       "    </tr>\n",
       "    <tr>\n",
       "      <th>1</th>\n",
       "      <td>1</td>\n",
       "      <td>T001144</td>\n",
       "      <td>T001095</td>\n",
       "      <td>T000000</td>\n",
       "      <td>T001266</td>\n",
       "      <td>NL01</td>\n",
       "      <td>2006JJ00</td>\n",
       "      <td>2363600</td>\n",
       "    </tr>\n",
       "    <tr>\n",
       "      <th>2</th>\n",
       "      <td>2</td>\n",
       "      <td>T001144</td>\n",
       "      <td>T001095</td>\n",
       "      <td>T000000</td>\n",
       "      <td>T001266</td>\n",
       "      <td>NL01</td>\n",
       "      <td>2007JJ00</td>\n",
       "      <td>2374000</td>\n",
       "    </tr>\n",
       "    <tr>\n",
       "      <th>3</th>\n",
       "      <td>3</td>\n",
       "      <td>T001144</td>\n",
       "      <td>T001095</td>\n",
       "      <td>T000000</td>\n",
       "      <td>T001266</td>\n",
       "      <td>NL01</td>\n",
       "      <td>2008JJ00</td>\n",
       "      <td>2392100</td>\n",
       "    </tr>\n",
       "    <tr>\n",
       "      <th>4</th>\n",
       "      <td>4</td>\n",
       "      <td>T001144</td>\n",
       "      <td>T001095</td>\n",
       "      <td>T000000</td>\n",
       "      <td>T001266</td>\n",
       "      <td>NL01</td>\n",
       "      <td>2009JJ00</td>\n",
       "      <td>2418600</td>\n",
       "    </tr>\n",
       "  </tbody>\n",
       "</table>\n",
       "</div>"
      ],
      "text/plain": [
       "   ID Participation in education features Work  Payment Signed CWI  REGIOS  \\\n",
       "0   0                    T001144       T001095  T000000    T001266  NL01     \n",
       "1   1                    T001144       T001095  T000000    T001266  NL01     \n",
       "2   2                    T001144       T001095  T000000    T001266  NL01     \n",
       "3   3                    T001144       T001095  T000000    T001266  NL01     \n",
       "4   4                    T001144       T001095  T000000    T001266  NL01     \n",
       "\n",
       "  The period  Youth 15 to 27 Years  \n",
       "0   2005JJ00               2351600  \n",
       "1   2006JJ00               2363600  \n",
       "2   2007JJ00               2374000  \n",
       "3   2008JJ00               2392100  \n",
       "4   2009JJ00               2418600  "
      ]
     },
     "execution_count": 38,
     "metadata": {},
     "output_type": "execute_result"
    }
   ],
   "source": [
    "table0.head()"
   ]
  },
  {
   "cell_type": "code",
   "execution_count": 40,
   "metadata": {},
   "outputs": [],
   "source": [
    "merged_1 = pd.merge(table0, table2, left_on='Participation in education', right_on= 'Key', how='left')"
   ]
  },
  {
   "cell_type": "code",
   "execution_count": 43,
   "metadata": {},
   "outputs": [],
   "source": [
    "merged_2 = pd.merge(merged_1, table3, left_on='features Work', right_on= 'Key', how='left')"
   ]
  },
  {
   "cell_type": "code",
   "execution_count": 45,
   "metadata": {},
   "outputs": [],
   "source": [
    "merged_3 = pd.merge(merged_2, table4, left_on='Payment', right_on= 'Key', how='left')"
   ]
  },
  {
   "cell_type": "code",
   "execution_count": 47,
   "metadata": {},
   "outputs": [],
   "source": [
    "merged_4 = pd.merge(merged_3, table5, left_on='Signed CWI', right_on= 'Key', how='left')"
   ]
  },
  {
   "cell_type": "code",
   "execution_count": 49,
   "metadata": {},
   "outputs": [],
   "source": [
    "merged_5 = pd.merge(merged_4, table6, left_on='REGIOS', right_on= 'Key', how='left')"
   ]
  },
  {
   "cell_type": "code",
   "execution_count": 51,
   "metadata": {},
   "outputs": [],
   "source": [
    "merged_6 = pd.merge(merged_5, table7, left_on='The period', right_on= 'Key', how='left')"
   ]
  },
  {
   "cell_type": "code",
   "execution_count": 56,
   "metadata": {},
   "outputs": [
    {
     "data": {
      "text/html": [
       "<div>\n",
       "<style scoped>\n",
       "    .dataframe tbody tr th:only-of-type {\n",
       "        vertical-align: middle;\n",
       "    }\n",
       "\n",
       "    .dataframe tbody tr th {\n",
       "        vertical-align: top;\n",
       "    }\n",
       "\n",
       "    .dataframe thead th {\n",
       "        text-align: right;\n",
       "    }\n",
       "</style>\n",
       "<table border=\"1\" class=\"dataframe\">\n",
       "  <thead>\n",
       "    <tr style=\"text-align: right;\">\n",
       "      <th></th>\n",
       "      <th>ID</th>\n",
       "      <th>Participation in education</th>\n",
       "      <th>features Work</th>\n",
       "      <th>Payment</th>\n",
       "      <th>Signed CWI</th>\n",
       "      <th>REGIOS</th>\n",
       "      <th>The period</th>\n",
       "      <th>Youth 15 to 27 Years</th>\n",
       "      <th>CategoryGroupID_x</th>\n",
       "      <th>Description_x</th>\n",
       "      <th>...</th>\n",
       "      <th>Key_y</th>\n",
       "      <th>Title_y</th>\n",
       "      <th>CategoryGroupID</th>\n",
       "      <th>Description_x</th>\n",
       "      <th>Key_x</th>\n",
       "      <th>Title_x</th>\n",
       "      <th>Description_y</th>\n",
       "      <th>Key_y</th>\n",
       "      <th>Status</th>\n",
       "      <th>Title_y</th>\n",
       "    </tr>\n",
       "  </thead>\n",
       "  <tbody>\n",
       "    <tr>\n",
       "      <th>0</th>\n",
       "      <td>0</td>\n",
       "      <td>T001144</td>\n",
       "      <td>T001095</td>\n",
       "      <td>T000000</td>\n",
       "      <td>T001266</td>\n",
       "      <td>NL01</td>\n",
       "      <td>2005JJ00</td>\n",
       "      <td>2351600</td>\n",
       "      <td>None</td>\n",
       "      <td></td>\n",
       "      <td>...</td>\n",
       "      <td>T001266</td>\n",
       "      <td>Totaal</td>\n",
       "      <td>None</td>\n",
       "      <td></td>\n",
       "      <td>NL01</td>\n",
       "      <td>Nederland</td>\n",
       "      <td></td>\n",
       "      <td>2005JJ00</td>\n",
       "      <td>Definitief</td>\n",
       "      <td>2005</td>\n",
       "    </tr>\n",
       "    <tr>\n",
       "      <th>1</th>\n",
       "      <td>1</td>\n",
       "      <td>T001144</td>\n",
       "      <td>T001095</td>\n",
       "      <td>T000000</td>\n",
       "      <td>T001266</td>\n",
       "      <td>NL01</td>\n",
       "      <td>2006JJ00</td>\n",
       "      <td>2363600</td>\n",
       "      <td>None</td>\n",
       "      <td></td>\n",
       "      <td>...</td>\n",
       "      <td>T001266</td>\n",
       "      <td>Totaal</td>\n",
       "      <td>None</td>\n",
       "      <td></td>\n",
       "      <td>NL01</td>\n",
       "      <td>Nederland</td>\n",
       "      <td>None</td>\n",
       "      <td>2006JJ00</td>\n",
       "      <td>Definitief</td>\n",
       "      <td>2006</td>\n",
       "    </tr>\n",
       "    <tr>\n",
       "      <th>2</th>\n",
       "      <td>2</td>\n",
       "      <td>T001144</td>\n",
       "      <td>T001095</td>\n",
       "      <td>T000000</td>\n",
       "      <td>T001266</td>\n",
       "      <td>NL01</td>\n",
       "      <td>2007JJ00</td>\n",
       "      <td>2374000</td>\n",
       "      <td>None</td>\n",
       "      <td></td>\n",
       "      <td>...</td>\n",
       "      <td>T001266</td>\n",
       "      <td>Totaal</td>\n",
       "      <td>None</td>\n",
       "      <td></td>\n",
       "      <td>NL01</td>\n",
       "      <td>Nederland</td>\n",
       "      <td></td>\n",
       "      <td>2007JJ00</td>\n",
       "      <td>Definitief</td>\n",
       "      <td>2007</td>\n",
       "    </tr>\n",
       "    <tr>\n",
       "      <th>3</th>\n",
       "      <td>3</td>\n",
       "      <td>T001144</td>\n",
       "      <td>T001095</td>\n",
       "      <td>T000000</td>\n",
       "      <td>T001266</td>\n",
       "      <td>NL01</td>\n",
       "      <td>2008JJ00</td>\n",
       "      <td>2392100</td>\n",
       "      <td>None</td>\n",
       "      <td></td>\n",
       "      <td>...</td>\n",
       "      <td>T001266</td>\n",
       "      <td>Totaal</td>\n",
       "      <td>None</td>\n",
       "      <td></td>\n",
       "      <td>NL01</td>\n",
       "      <td>Nederland</td>\n",
       "      <td></td>\n",
       "      <td>2008JJ00</td>\n",
       "      <td>Definitief</td>\n",
       "      <td>2008</td>\n",
       "    </tr>\n",
       "    <tr>\n",
       "      <th>4</th>\n",
       "      <td>4</td>\n",
       "      <td>T001144</td>\n",
       "      <td>T001095</td>\n",
       "      <td>T000000</td>\n",
       "      <td>T001266</td>\n",
       "      <td>NL01</td>\n",
       "      <td>2009JJ00</td>\n",
       "      <td>2418600</td>\n",
       "      <td>None</td>\n",
       "      <td></td>\n",
       "      <td>...</td>\n",
       "      <td>T001266</td>\n",
       "      <td>Totaal</td>\n",
       "      <td>None</td>\n",
       "      <td></td>\n",
       "      <td>NL01</td>\n",
       "      <td>Nederland</td>\n",
       "      <td></td>\n",
       "      <td>2009JJ00</td>\n",
       "      <td>Definitief</td>\n",
       "      <td>2009</td>\n",
       "    </tr>\n",
       "  </tbody>\n",
       "</table>\n",
       "<p>5 rows × 32 columns</p>\n",
       "</div>"
      ],
      "text/plain": [
       "   ID Participation in education features Work  Payment Signed CWI  REGIOS  \\\n",
       "0   0                    T001144       T001095  T000000    T001266  NL01     \n",
       "1   1                    T001144       T001095  T000000    T001266  NL01     \n",
       "2   2                    T001144       T001095  T000000    T001266  NL01     \n",
       "3   3                    T001144       T001095  T000000    T001266  NL01     \n",
       "4   4                    T001144       T001095  T000000    T001266  NL01     \n",
       "\n",
       "  The period  Youth 15 to 27 Years CategoryGroupID_x Description_x   ...    \\\n",
       "0   2005JJ00               2351600              None                 ...     \n",
       "1   2006JJ00               2363600              None                 ...     \n",
       "2   2007JJ00               2374000              None                 ...     \n",
       "3   2008JJ00               2392100              None                 ...     \n",
       "4   2009JJ00               2418600              None                 ...     \n",
       "\n",
       "     Key_y Title_y  CategoryGroupID Description_x   Key_x    Title_x  \\\n",
       "0  T001266  Totaal             None                NL01    Nederland   \n",
       "1  T001266  Totaal             None                NL01    Nederland   \n",
       "2  T001266  Totaal             None                NL01    Nederland   \n",
       "3  T001266  Totaal             None                NL01    Nederland   \n",
       "4  T001266  Totaal             None                NL01    Nederland   \n",
       "\n",
       "  Description_y     Key_y      Status Title_y  \n",
       "0                2005JJ00  Definitief    2005  \n",
       "1          None  2006JJ00  Definitief    2006  \n",
       "2                2007JJ00  Definitief    2007  \n",
       "3                2008JJ00  Definitief    2008  \n",
       "4                2009JJ00  Definitief    2009  \n",
       "\n",
       "[5 rows x 32 columns]"
      ]
     },
     "execution_count": 56,
     "metadata": {},
     "output_type": "execute_result"
    }
   ],
   "source": [
    "merged_6.head()#.columns"
   ]
  },
  {
   "cell_type": "code",
   "execution_count": 61,
   "metadata": {},
   "outputs": [],
   "source": [
    "merged_6.columns = ['ID', 'Participation in education key', 'features Work key', 'Payment key',\n",
    "       'Signed CWI key', 'REGIOS key', 'The period key', 'Youth 15 to 27 Years',\n",
    "       'CategoryGroupID_1', 'Description_1', 'Key_1', 'Participation in education',\n",
    "       'CategoryGroupID_2', 'Description_2', 'Key_2', 'Work Characteristics',\n",
    "       'CategoryGroupID_3', 'Description_3', 'Key_3', 'Payment',\n",
    "       'CategoryGroupID_4', 'Description_4', 'Key_4', 'Signed UW',\n",
    "       'CategoryGroupID_5', 'Description_5', 'Key_5', 'Region', 'Description_6',\n",
    "       'Key_6', 'Status', 'Period']"
   ]
  },
  {
   "cell_type": "code",
   "execution_count": 92,
   "metadata": {},
   "outputs": [],
   "source": [
    "data_merged = merged_6[['ID','Work Characteristics','Payment','Signed UW','Region','Period']]"
   ]
  },
  {
   "cell_type": "code",
   "execution_count": 93,
   "metadata": {},
   "outputs": [],
   "source": [
    "data_filtered = data_merged[(data_merged['Work Characteristics'] != 'Totaal') & (data_merged['Signed UW'] != 'Totaal') & (data_merged['Region'] != 'Nederland') & (data_merged['Work Characteristics'] != 'Totaal') ]"
   ]
  },
  {
   "cell_type": "code",
   "execution_count": 94,
   "metadata": {
    "collapsed": false
   },
   "outputs": [],
   "source": [
    "def missing_values_table(df): \n",
    "        mis_val = df.isnull().sum()\n",
    "        mis_val_percent = 100 * df.isnull().sum()/len(df)\n",
    "        mis_val_table = pd.concat([mis_val, mis_val_percent], axis=1)\n",
    "        mis_val_table = mis_val_table.rename(columns = {0 : 'Missing Values', 1 : '% of Total Values'})\n",
    "        return mis_val_table"
   ]
  },
  {
   "cell_type": "code",
   "execution_count": 95,
   "metadata": {
    "collapsed": false
   },
   "outputs": [
    {
     "name": "stdout",
     "output_type": "stream",
     "text": [
      "                      Missing Values  % of Total Values\n",
      "Work Characteristics          403536          78.005103\n",
      "Payment                        11496           2.222222\n"
     ]
    }
   ],
   "source": [
    "missing = missing_values_table(data_filtered)\n",
    "missing = missing[missing['Missing Values'] > 0] #showing only all those are not zero\n",
    "print(missing)"
   ]
  },
  {
   "cell_type": "code",
   "execution_count": 106,
   "metadata": {},
   "outputs": [],
   "source": [
    "data_filtered = data_filtered[data_filtered['Work Characteristics'].notnull()]"
   ]
  },
  {
   "cell_type": "code",
   "execution_count": 107,
   "metadata": {},
   "outputs": [],
   "source": [
    "data_filtered.to_csv('labor-market-netherlands-dutch.csv')"
   ]
  },
  {
   "cell_type": "markdown",
   "metadata": {},
   "source": [
    "---"
   ]
  },
  {
   "cell_type": "code",
   "execution_count": null,
   "metadata": {},
   "outputs": [],
   "source": []
  },
  {
   "cell_type": "code",
   "execution_count": 13,
   "metadata": {},
   "outputs": [
    {
     "name": "stderr",
     "output_type": "stream",
     "text": [
      "/Users/pedrohserrano/anaconda3/envs/py35r/lib/python3.5/site-packages/IPython/core/interactiveshell.py:2728: DtypeWarning: Columns (1,2,3) have mixed types. Specify dtype option on import or set low_memory=False.\n",
      "  interactivity=interactivity, compiler=compiler, result=result)\n"
     ]
    }
   ],
   "source": [
    "table0 = pd.read_csv('../datasets/labor-market-netherlands.csv', sep =';', index_col=False)"
   ]
  },
  {
   "cell_type": "code",
   "execution_count": 7,
   "metadata": {},
   "outputs": [],
   "source": [
    "table2 = pd.read_csv('../datasets/ParticipationEducation.csv', index_col=False)"
   ]
  },
  {
   "cell_type": "code",
   "execution_count": 8,
   "metadata": {},
   "outputs": [],
   "source": [
    "table3 = pd.read_csv('../datasets/WorkCharacteristics.csv', index_col=False)"
   ]
  },
  {
   "cell_type": "code",
   "execution_count": 9,
   "metadata": {},
   "outputs": [],
   "source": [
    "table4 = pd.read_csv('../datasets/Payment.csv', index_col=False)"
   ]
  },
  {
   "cell_type": "code",
   "execution_count": 10,
   "metadata": {},
   "outputs": [],
   "source": [
    "table5 = pd.read_csv('../datasets/SignedUWV.csv', index_col=False)"
   ]
  },
  {
   "cell_type": "code",
   "execution_count": 11,
   "metadata": {},
   "outputs": [],
   "source": [
    "table6 = pd.read_csv('../datasets/regionsNed.csv', index_col=False)"
   ]
  },
  {
   "cell_type": "code",
   "execution_count": 12,
   "metadata": {},
   "outputs": [],
   "source": [
    "table7 = pd.read_csv('../datasets/Perioden.csv', index_col=False)"
   ]
  },
  {
   "cell_type": "code",
   "execution_count": 15,
   "metadata": {},
   "outputs": [
    {
     "data": {
      "text/html": [
       "<div>\n",
       "<style scoped>\n",
       "    .dataframe tbody tr th:only-of-type {\n",
       "        vertical-align: middle;\n",
       "    }\n",
       "\n",
       "    .dataframe tbody tr th {\n",
       "        vertical-align: top;\n",
       "    }\n",
       "\n",
       "    .dataframe thead th {\n",
       "        text-align: right;\n",
       "    }\n",
       "</style>\n",
       "<table border=\"1\" class=\"dataframe\">\n",
       "  <thead>\n",
       "    <tr style=\"text-align: right;\">\n",
       "      <th></th>\n",
       "      <th>ID</th>\n",
       "      <th>Participation in education</th>\n",
       "      <th>features Work</th>\n",
       "      <th>Payment</th>\n",
       "      <th>Signed CWI</th>\n",
       "      <th>REGIOS</th>\n",
       "      <th>The period</th>\n",
       "      <th>Youth 15 to 27 Years</th>\n",
       "    </tr>\n",
       "  </thead>\n",
       "  <tbody>\n",
       "    <tr>\n",
       "      <th>0</th>\n",
       "      <td>0</td>\n",
       "      <td>T001144</td>\n",
       "      <td>T001095</td>\n",
       "      <td>T000000</td>\n",
       "      <td>T001266</td>\n",
       "      <td>NL01</td>\n",
       "      <td>2005JJ00</td>\n",
       "      <td>2351600</td>\n",
       "    </tr>\n",
       "    <tr>\n",
       "      <th>1</th>\n",
       "      <td>1</td>\n",
       "      <td>T001144</td>\n",
       "      <td>T001095</td>\n",
       "      <td>T000000</td>\n",
       "      <td>T001266</td>\n",
       "      <td>NL01</td>\n",
       "      <td>2006JJ00</td>\n",
       "      <td>2363600</td>\n",
       "    </tr>\n",
       "    <tr>\n",
       "      <th>2</th>\n",
       "      <td>2</td>\n",
       "      <td>T001144</td>\n",
       "      <td>T001095</td>\n",
       "      <td>T000000</td>\n",
       "      <td>T001266</td>\n",
       "      <td>NL01</td>\n",
       "      <td>2007JJ00</td>\n",
       "      <td>2374000</td>\n",
       "    </tr>\n",
       "    <tr>\n",
       "      <th>3</th>\n",
       "      <td>3</td>\n",
       "      <td>T001144</td>\n",
       "      <td>T001095</td>\n",
       "      <td>T000000</td>\n",
       "      <td>T001266</td>\n",
       "      <td>NL01</td>\n",
       "      <td>2008JJ00</td>\n",
       "      <td>2392100</td>\n",
       "    </tr>\n",
       "    <tr>\n",
       "      <th>4</th>\n",
       "      <td>4</td>\n",
       "      <td>T001144</td>\n",
       "      <td>T001095</td>\n",
       "      <td>T000000</td>\n",
       "      <td>T001266</td>\n",
       "      <td>NL01</td>\n",
       "      <td>2009JJ00</td>\n",
       "      <td>2418600</td>\n",
       "    </tr>\n",
       "  </tbody>\n",
       "</table>\n",
       "</div>"
      ],
      "text/plain": [
       "   ID Participation in education features Work  Payment Signed CWI  REGIOS  \\\n",
       "0   0                    T001144       T001095  T000000    T001266  NL01     \n",
       "1   1                    T001144       T001095  T000000    T001266  NL01     \n",
       "2   2                    T001144       T001095  T000000    T001266  NL01     \n",
       "3   3                    T001144       T001095  T000000    T001266  NL01     \n",
       "4   4                    T001144       T001095  T000000    T001266  NL01     \n",
       "\n",
       "  The period  Youth 15 to 27 Years  \n",
       "0   2005JJ00               2351600  \n",
       "1   2006JJ00               2363600  \n",
       "2   2007JJ00               2374000  \n",
       "3   2008JJ00               2392100  \n",
       "4   2009JJ00               2418600  "
      ]
     },
     "execution_count": 15,
     "metadata": {},
     "output_type": "execute_result"
    }
   ],
   "source": [
    "table0.head()"
   ]
  },
  {
   "cell_type": "code",
   "execution_count": 16,
   "metadata": {},
   "outputs": [],
   "source": [
    "merged_1 = pd.merge(table0, table2, left_on='Participation in education', right_on= 'Key', how='left')"
   ]
  },
  {
   "cell_type": "code",
   "execution_count": 17,
   "metadata": {},
   "outputs": [],
   "source": [
    "merged_2 = pd.merge(merged_1, table3, left_on='features Work', right_on= 'Key', how='left')"
   ]
  },
  {
   "cell_type": "code",
   "execution_count": 18,
   "metadata": {},
   "outputs": [],
   "source": [
    "merged_3 = pd.merge(merged_2, table4, left_on='Payment', right_on= 'Key', how='left')"
   ]
  },
  {
   "cell_type": "code",
   "execution_count": 19,
   "metadata": {},
   "outputs": [],
   "source": [
    "merged_4 = pd.merge(merged_3, table5, left_on='Signed CWI', right_on= 'Key', how='left')"
   ]
  },
  {
   "cell_type": "code",
   "execution_count": 20,
   "metadata": {},
   "outputs": [],
   "source": [
    "merged_5 = pd.merge(merged_4, table6, left_on='REGIOS', right_on= 'Key', how='left')"
   ]
  },
  {
   "cell_type": "code",
   "execution_count": 21,
   "metadata": {},
   "outputs": [],
   "source": [
    "merged_6 = pd.merge(merged_5, table7, left_on='The period', right_on= 'Key', how='left')"
   ]
  },
  {
   "cell_type": "code",
   "execution_count": 25,
   "metadata": {},
   "outputs": [
    {
     "data": {
      "text/plain": [
       "Index(['ID', 'Participation in education', 'features Work', 'Payment',\n",
       "       'Signed CWI', 'REGIOS', 'The period', 'Youth 15 to 27 Years',\n",
       "       'Description_x', 'Key_x', 'Title_x', 'Description_y', 'Key_y',\n",
       "       'Title_y', 'Description_x', 'Key_x', 'Title_x', 'Description_y',\n",
       "       'Key_y', 'Title_y', 'Description_x', 'Key_x', 'Title_x', 'Unnamed: 0',\n",
       "       'Description_y', 'Key_y', 'Status', 'Title_y'],\n",
       "      dtype='object')"
      ]
     },
     "execution_count": 25,
     "metadata": {},
     "output_type": "execute_result"
    }
   ],
   "source": [
    "merged_6.columns#.columns"
   ]
  },
  {
   "cell_type": "code",
   "execution_count": 27,
   "metadata": {},
   "outputs": [],
   "source": [
    "merged_6.columns = ['ID', 'Participation in education key', 'features Work key', 'Payment key',\n",
    "       'Signed CWI key', 'REGIOS key', 'The period key', 'Youth 15 to 27 Years',\n",
    "                    'Description_1', 'Key_1', 'Participation in education',\n",
    "                    'Description_2', 'Key_2', 'Work Characteristics',\n",
    "                    'Description_3', 'Key_3', 'Payment', \n",
    "                    'Description_4', 'Key_4', 'Signed UW',\n",
    "                    'Description_5', 'Key_5', 'Region', 'idtime','Description_6',\n",
    "       'Key_6', 'Status', 'Period']"
   ]
  },
  {
   "cell_type": "code",
   "execution_count": 30,
   "metadata": {},
   "outputs": [],
   "source": [
    "data_merged = merged_6[['ID','Work Characteristics','Payment','Signed UW','Region','Period','Youth 15 to 27 Years']]"
   ]
  },
  {
   "cell_type": "code",
   "execution_count": 34,
   "metadata": {},
   "outputs": [],
   "source": [
    "data_merged.to_csv('../../labor-market-netherlands-english.csv', index=False)"
   ]
  },
  {
   "cell_type": "code",
   "execution_count": 93,
   "metadata": {},
   "outputs": [],
   "source": [
    "data_filtered = data_merged[(data_merged['Work Characteristics'] != 'Totaal') & (data_merged['Signed UW'] != 'Totaal') & (data_merged['Region'] != 'Nederland') & (data_merged['Work Characteristics'] != 'Totaal') ]"
   ]
  }
 ],
 "metadata": {
  "kernelspec": {
   "display_name": "Python 3",
   "language": "python",
   "name": "python3"
  },
  "language_info": {
   "codemirror_mode": {
    "name": "ipython",
    "version": 3
   },
   "file_extension": ".py",
   "mimetype": "text/x-python",
   "name": "python",
   "nbconvert_exporter": "python",
   "pygments_lexer": "ipython3",
   "version": "3.5.4"
  }
 },
 "nbformat": 4,
 "nbformat_minor": 2
}
