{
 "cells": [
  {
   "cell_type": "markdown",
   "metadata": {},
   "source": [
    "# Anomaly Detection - Kmeans"
   ]
  },
  {
   "cell_type": "code",
   "execution_count": 1,
   "metadata": {},
   "outputs": [],
   "source": [
    "import turicreate as tc\n",
    "import pandas as pd\n",
    "import matplotlib.pyplot as plt\n",
    "import seaborn as sns\n",
    "import numpy as np\n",
    "%matplotlib inline\n",
    "plt.style.use('ggplot')"
   ]
  },
  {
   "cell_type": "markdown",
   "metadata": {},
   "source": [
    "Sometimes is normal to find databases or datasets in web repositories, in general, the most common way to access is via API, in many other cases, the data can be accessed through the link URL."
   ]
  },
  {
   "cell_type": "markdown",
   "metadata": {},
   "source": [
    "We utilize the Dutch portal for official distribution of data sources, part of the\n",
    "[Ministry of the Interior and Kingdom Relations](https://data.overheid.nl/data/dataset) web page, where we can find tons of datasets in different formats, for many distinct applications.\n",
    "\n",
    "It is important to automate the collection of the data. A good method is creating a function to make the [web service](https://en.wikipedia.org/wiki/Web_service) request, as shown below.\n",
    "\n",
    "For convenience, we are going to focus on crime data in this example."
   ]
  },
  {
   "cell_type": "markdown",
   "metadata": {},
   "source": [
    "### Deaths; murder, crime scene in The Netherlands\n",
    "\n",
    "This table contains the number of persons died as a result of murder or manslaughter, where the crime scene is located in the Netherlands. The victims can be residents or non-residents. The data can be split by location of the crime, method, age and sex. The date of death is the criterion, the date of the act can be in the previous year. The ICD10 codes that belong to murder and manslaughter are X85-Y09.  \n",
    "\n",
    "[Open Data Source](https://data.overheid.nl/data/dataset/deaths-murder-and-manslaughter-crime-scene-in-the-netherlands)  \n",
    "[License](https://data.overheid.nl/licenties-voor-hergebruik) CC-BY 4.0"
   ]
  },
  {
   "cell_type": "code",
   "execution_count": 2,
   "metadata": {},
   "outputs": [],
   "source": [
    "df_crimes = pd.read_csv('https://s3.eu-west-3.amazonaws.com/pedrohserrano-datasets/crimes-netherlands.csv', sep=',')"
   ]
  },
  {
   "cell_type": "markdown",
   "metadata": {},
   "source": [
    "The municipalities names, region and population are missing, we might go for an additional source"
   ]
  },
  {
   "cell_type": "code",
   "execution_count": 3,
   "metadata": {},
   "outputs": [],
   "source": [
    "# Sometime you just need a little bit of imagination, List of municipalities\n",
    "df_population = pd.read_csv('https://s3.eu-west-3.amazonaws.com/pedrohserrano-datasets/population-netherlands.tsv', sep='\\t')"
   ]
  },
  {
   "cell_type": "code",
   "execution_count": 4,
   "metadata": {},
   "outputs": [
    {
     "data": {
      "text/html": [
       "<div>\n",
       "<style scoped>\n",
       "    .dataframe tbody tr th:only-of-type {\n",
       "        vertical-align: middle;\n",
       "    }\n",
       "\n",
       "    .dataframe tbody tr th {\n",
       "        vertical-align: top;\n",
       "    }\n",
       "\n",
       "    .dataframe thead th {\n",
       "        text-align: right;\n",
       "    }\n",
       "</style>\n",
       "<table border=\"1\" class=\"dataframe\">\n",
       "  <thead>\n",
       "    <tr style=\"text-align: right;\">\n",
       "      <th></th>\n",
       "      <th>Municipality</th>\n",
       "      <th>CBScode</th>\n",
       "      <th>Province</th>\n",
       "      <th>Population</th>\n",
       "      <th>Population_density(p/km)</th>\n",
       "    </tr>\n",
       "  </thead>\n",
       "  <tbody>\n",
       "    <tr>\n",
       "      <th>0</th>\n",
       "      <td>Appingedam</td>\n",
       "      <td>GM0003</td>\n",
       "      <td>Groningen</td>\n",
       "      <td>12049</td>\n",
       "      <td>507</td>\n",
       "    </tr>\n",
       "    <tr>\n",
       "      <th>1</th>\n",
       "      <td>Bedum</td>\n",
       "      <td>GM0005</td>\n",
       "      <td>Groningen</td>\n",
       "      <td>10475</td>\n",
       "      <td>236</td>\n",
       "    </tr>\n",
       "    <tr>\n",
       "      <th>2</th>\n",
       "      <td>Bellingwedde</td>\n",
       "      <td>GM0007</td>\n",
       "      <td>Groningen</td>\n",
       "      <td>8908</td>\n",
       "      <td>86</td>\n",
       "    </tr>\n",
       "    <tr>\n",
       "      <th>3</th>\n",
       "      <td>Boer, TenTen Boer</td>\n",
       "      <td>GM0009</td>\n",
       "      <td>Groningen</td>\n",
       "      <td>7465</td>\n",
       "      <td>165</td>\n",
       "    </tr>\n",
       "    <tr>\n",
       "      <th>4</th>\n",
       "      <td>Delfzijl</td>\n",
       "      <td>GM0010</td>\n",
       "      <td>Groningen</td>\n",
       "      <td>25686</td>\n",
       "      <td>198</td>\n",
       "    </tr>\n",
       "  </tbody>\n",
       "</table>\n",
       "</div>"
      ],
      "text/plain": [
       "        Municipality CBScode   Province  Population  Population_density(p/km)\n",
       "0         Appingedam  GM0003  Groningen       12049                       507\n",
       "1              Bedum  GM0005  Groningen       10475                       236\n",
       "2       Bellingwedde  GM0007  Groningen        8908                        86\n",
       "3  Boer, TenTen Boer  GM0009  Groningen        7465                       165\n",
       "4           Delfzijl  GM0010  Groningen       25686                       198"
      ]
     },
     "execution_count": 4,
     "metadata": {},
     "output_type": "execute_result"
    }
   ],
   "source": [
    "df_population.head()"
   ]
  },
  {
   "cell_type": "markdown",
   "metadata": {},
   "source": [
    "### Explore Distribution"
   ]
  },
  {
   "cell_type": "markdown",
   "metadata": {},
   "source": [
    "How is related the crime and the types of crime with the population?"
   ]
  },
  {
   "cell_type": "code",
   "execution_count": 5,
   "metadata": {},
   "outputs": [
    {
     "data": {
      "text/html": [
       "<div>\n",
       "<style scoped>\n",
       "    .dataframe tbody tr th:only-of-type {\n",
       "        vertical-align: middle;\n",
       "    }\n",
       "\n",
       "    .dataframe tbody tr th {\n",
       "        vertical-align: top;\n",
       "    }\n",
       "\n",
       "    .dataframe thead th {\n",
       "        text-align: right;\n",
       "    }\n",
       "</style>\n",
       "<table border=\"1\" class=\"dataframe\">\n",
       "  <thead>\n",
       "    <tr style=\"text-align: right;\">\n",
       "      <th></th>\n",
       "      <th>Population</th>\n",
       "      <th>Population_density(p/km)</th>\n",
       "    </tr>\n",
       "  </thead>\n",
       "  <tbody>\n",
       "    <tr>\n",
       "      <th>count</th>\n",
       "      <td>390.000000</td>\n",
       "      <td>390.000000</td>\n",
       "    </tr>\n",
       "    <tr>\n",
       "      <th>mean</th>\n",
       "      <td>43159.884615</td>\n",
       "      <td>811.246154</td>\n",
       "    </tr>\n",
       "    <tr>\n",
       "      <th>std</th>\n",
       "      <td>67418.318090</td>\n",
       "      <td>973.824887</td>\n",
       "    </tr>\n",
       "    <tr>\n",
       "      <th>min</th>\n",
       "      <td>938.000000</td>\n",
       "      <td>21.000000</td>\n",
       "    </tr>\n",
       "    <tr>\n",
       "      <th>25%</th>\n",
       "      <td>17742.000000</td>\n",
       "      <td>225.250000</td>\n",
       "    </tr>\n",
       "    <tr>\n",
       "      <th>50%</th>\n",
       "      <td>26046.500000</td>\n",
       "      <td>415.000000</td>\n",
       "    </tr>\n",
       "    <tr>\n",
       "      <th>75%</th>\n",
       "      <td>44371.500000</td>\n",
       "      <td>998.000000</td>\n",
       "    </tr>\n",
       "    <tr>\n",
       "      <th>max</th>\n",
       "      <td>853312.000000</td>\n",
       "      <td>6131.000000</td>\n",
       "    </tr>\n",
       "  </tbody>\n",
       "</table>\n",
       "</div>"
      ],
      "text/plain": [
       "          Population  Population_density(p/km)\n",
       "count     390.000000                390.000000\n",
       "mean    43159.884615                811.246154\n",
       "std     67418.318090                973.824887\n",
       "min       938.000000                 21.000000\n",
       "25%     17742.000000                225.250000\n",
       "50%     26046.500000                415.000000\n",
       "75%     44371.500000                998.000000\n",
       "max    853312.000000               6131.000000"
      ]
     },
     "execution_count": 5,
     "metadata": {},
     "output_type": "execute_result"
    }
   ],
   "source": [
    "df_population.describe()"
   ]
  },
  {
   "cell_type": "code",
   "execution_count": 6,
   "metadata": {},
   "outputs": [
    {
     "name": "stderr",
     "output_type": "stream",
     "text": [
      "/Users/pedrohserrano/anaconda3/envs/py35r/lib/python3.5/site-packages/statsmodels/nonparametric/kde.py:475: DeprecationWarning: object of type <class 'numpy.float64'> cannot be safely interpreted as an integer.\n",
      "  grid,delta = np.linspace(a,b,gridsize,retstep=True)\n"
     ]
    },
    {
     "data": {
      "text/plain": [
       "<matplotlib.legend.Legend at 0x1a1edac8d0>"
      ]
     },
     "execution_count": 6,
     "metadata": {},
     "output_type": "execute_result"
    },
    {
     "data": {
      "image/png": "[encoded data removed]",
      "text/plain": [
       "<matplotlib.figure.Figure at 0x1a1edac7f0>"
      ]
     },
     "metadata": {},
     "output_type": "display_data"
    }
   ],
   "source": [
    "plt.figure(figsize=[16, 8])\n",
    "sns.kdeplot(df_population['Population'], shade=True, color=\"r\", label='Population')\n",
    "plt.title('Distribution of Population The Netherlands'); plt.legend()"
   ]
  },
  {
   "cell_type": "markdown",
   "metadata": {},
   "source": [
    "### Datasets Merge"
   ]
  },
  {
   "cell_type": "code",
   "execution_count": 7,
   "metadata": {},
   "outputs": [],
   "source": [
    "# Merge the crimes table and population table\n",
    "df_crime_pop = pd.merge(df_crimes, df_population, on='CBScode', how='left')\n",
    "df_crime_pop = df_crime_pop.replace([np.inf, -np.inf], np.nan)\n",
    "df_crime_pop.fillna(0, inplace=True)"
   ]
  },
  {
   "cell_type": "code",
   "execution_count": 8,
   "metadata": {},
   "outputs": [
    {
     "data": {
      "text/html": [
       "<div>\n",
       "<style scoped>\n",
       "    .dataframe tbody tr th:only-of-type {\n",
       "        vertical-align: middle;\n",
       "    }\n",
       "\n",
       "    .dataframe tbody tr th {\n",
       "        vertical-align: top;\n",
       "    }\n",
       "\n",
       "    .dataframe thead th {\n",
       "        text-align: right;\n",
       "    }\n",
       "</style>\n",
       "<table border=\"1\" class=\"dataframe\">\n",
       "  <thead>\n",
       "    <tr style=\"text-align: right;\">\n",
       "      <th></th>\n",
       "      <th>CBScode</th>\n",
       "      <th>Perioden</th>\n",
       "      <th>HIC: Theft / burglary dwelling, complete</th>\n",
       "      <th>HIC: Theft / burglary dwelling, attempts</th>\n",
       "      <th>HIC: Violent Crime</th>\n",
       "      <th>HIC: Street Roof</th>\n",
       "      <th>HIC: Robberies</th>\n",
       "      <th>Undermining public order</th>\n",
       "      <th>Threat</th>\n",
       "      <th>Fire / Explosion</th>\n",
       "      <th>...</th>\n",
       "      <th>mistreatment</th>\n",
       "      <th>Overt violence (person)</th>\n",
       "      <th>Or destruction. cause damage</th>\n",
       "      <th>Arms Trade</th>\n",
       "      <th>pickpocketing</th>\n",
       "      <th>morals Felony</th>\n",
       "      <th>Municipality</th>\n",
       "      <th>Province</th>\n",
       "      <th>Population</th>\n",
       "      <th>Population_density(p/km)</th>\n",
       "    </tr>\n",
       "  </thead>\n",
       "  <tbody>\n",
       "    <tr>\n",
       "      <th>0</th>\n",
       "      <td>GM0003</td>\n",
       "      <td>2016JJ00</td>\n",
       "      <td>24.0</td>\n",
       "      <td>12.0</td>\n",
       "      <td>67.0</td>\n",
       "      <td>0.0</td>\n",
       "      <td>1.0</td>\n",
       "      <td>3.0</td>\n",
       "      <td>27.0</td>\n",
       "      <td>0.0</td>\n",
       "      <td>...</td>\n",
       "      <td>40.0</td>\n",
       "      <td>0.0</td>\n",
       "      <td>54.0</td>\n",
       "      <td>1.0</td>\n",
       "      <td>3.0</td>\n",
       "      <td>3.0</td>\n",
       "      <td>Appingedam</td>\n",
       "      <td>Groningen</td>\n",
       "      <td>12049.0</td>\n",
       "      <td>507.0</td>\n",
       "    </tr>\n",
       "    <tr>\n",
       "      <th>1</th>\n",
       "      <td>GM0005</td>\n",
       "      <td>2016JJ00</td>\n",
       "      <td>10.0</td>\n",
       "      <td>2.0</td>\n",
       "      <td>19.0</td>\n",
       "      <td>0.0</td>\n",
       "      <td>0.0</td>\n",
       "      <td>0.0</td>\n",
       "      <td>5.0</td>\n",
       "      <td>1.0</td>\n",
       "      <td>...</td>\n",
       "      <td>14.0</td>\n",
       "      <td>0.0</td>\n",
       "      <td>44.0</td>\n",
       "      <td>0.0</td>\n",
       "      <td>1.0</td>\n",
       "      <td>6.0</td>\n",
       "      <td>Bedum</td>\n",
       "      <td>Groningen</td>\n",
       "      <td>10475.0</td>\n",
       "      <td>236.0</td>\n",
       "    </tr>\n",
       "    <tr>\n",
       "      <th>2</th>\n",
       "      <td>GM0007</td>\n",
       "      <td>2016JJ00</td>\n",
       "      <td>13.0</td>\n",
       "      <td>4.0</td>\n",
       "      <td>30.0</td>\n",
       "      <td>0.0</td>\n",
       "      <td>0.0</td>\n",
       "      <td>3.0</td>\n",
       "      <td>12.0</td>\n",
       "      <td>3.0</td>\n",
       "      <td>...</td>\n",
       "      <td>18.0</td>\n",
       "      <td>0.0</td>\n",
       "      <td>35.0</td>\n",
       "      <td>1.0</td>\n",
       "      <td>0.0</td>\n",
       "      <td>0.0</td>\n",
       "      <td>Bellingwedde</td>\n",
       "      <td>Groningen</td>\n",
       "      <td>8908.0</td>\n",
       "      <td>86.0</td>\n",
       "    </tr>\n",
       "    <tr>\n",
       "      <th>3</th>\n",
       "      <td>GM0009</td>\n",
       "      <td>2016JJ00</td>\n",
       "      <td>7.0</td>\n",
       "      <td>0.0</td>\n",
       "      <td>9.0</td>\n",
       "      <td>0.0</td>\n",
       "      <td>0.0</td>\n",
       "      <td>0.0</td>\n",
       "      <td>4.0</td>\n",
       "      <td>0.0</td>\n",
       "      <td>...</td>\n",
       "      <td>5.0</td>\n",
       "      <td>0.0</td>\n",
       "      <td>24.0</td>\n",
       "      <td>0.0</td>\n",
       "      <td>1.0</td>\n",
       "      <td>0.0</td>\n",
       "      <td>Boer, TenTen Boer</td>\n",
       "      <td>Groningen</td>\n",
       "      <td>7465.0</td>\n",
       "      <td>165.0</td>\n",
       "    </tr>\n",
       "    <tr>\n",
       "      <th>4</th>\n",
       "      <td>GM0010</td>\n",
       "      <td>2016JJ00</td>\n",
       "      <td>49.0</td>\n",
       "      <td>27.0</td>\n",
       "      <td>158.0</td>\n",
       "      <td>1.0</td>\n",
       "      <td>1.0</td>\n",
       "      <td>6.0</td>\n",
       "      <td>49.0</td>\n",
       "      <td>9.0</td>\n",
       "      <td>...</td>\n",
       "      <td>100.0</td>\n",
       "      <td>9.0</td>\n",
       "      <td>151.0</td>\n",
       "      <td>7.0</td>\n",
       "      <td>9.0</td>\n",
       "      <td>18.0</td>\n",
       "      <td>Delfzijl</td>\n",
       "      <td>Groningen</td>\n",
       "      <td>25686.0</td>\n",
       "      <td>198.0</td>\n",
       "    </tr>\n",
       "    <tr>\n",
       "      <th>5</th>\n",
       "      <td>GM0014</td>\n",
       "      <td>2016JJ00</td>\n",
       "      <td>696.0</td>\n",
       "      <td>181.0</td>\n",
       "      <td>1454.0</td>\n",
       "      <td>46.0</td>\n",
       "      <td>16.0</td>\n",
       "      <td>74.0</td>\n",
       "      <td>502.0</td>\n",
       "      <td>52.0</td>\n",
       "      <td>...</td>\n",
       "      <td>906.0</td>\n",
       "      <td>46.0</td>\n",
       "      <td>1506.0</td>\n",
       "      <td>50.0</td>\n",
       "      <td>574.0</td>\n",
       "      <td>171.0</td>\n",
       "      <td>Groningen</td>\n",
       "      <td>Groningen</td>\n",
       "      <td>198108.0</td>\n",
       "      <td>2474.0</td>\n",
       "    </tr>\n",
       "    <tr>\n",
       "      <th>6</th>\n",
       "      <td>GM0015</td>\n",
       "      <td>2016JJ00</td>\n",
       "      <td>12.0</td>\n",
       "      <td>2.0</td>\n",
       "      <td>18.0</td>\n",
       "      <td>0.0</td>\n",
       "      <td>0.0</td>\n",
       "      <td>0.0</td>\n",
       "      <td>4.0</td>\n",
       "      <td>3.0</td>\n",
       "      <td>...</td>\n",
       "      <td>12.0</td>\n",
       "      <td>2.0</td>\n",
       "      <td>34.0</td>\n",
       "      <td>0.0</td>\n",
       "      <td>0.0</td>\n",
       "      <td>2.0</td>\n",
       "      <td>Grootegast</td>\n",
       "      <td>Groningen</td>\n",
       "      <td>12193.0</td>\n",
       "      <td>141.0</td>\n",
       "    </tr>\n",
       "    <tr>\n",
       "      <th>7</th>\n",
       "      <td>GM0017</td>\n",
       "      <td>2016JJ00</td>\n",
       "      <td>63.0</td>\n",
       "      <td>20.0</td>\n",
       "      <td>42.0</td>\n",
       "      <td>1.0</td>\n",
       "      <td>0.0</td>\n",
       "      <td>1.0</td>\n",
       "      <td>24.0</td>\n",
       "      <td>3.0</td>\n",
       "      <td>...</td>\n",
       "      <td>18.0</td>\n",
       "      <td>0.0</td>\n",
       "      <td>70.0</td>\n",
       "      <td>1.0</td>\n",
       "      <td>8.0</td>\n",
       "      <td>5.0</td>\n",
       "      <td>Haren</td>\n",
       "      <td>Groningen</td>\n",
       "      <td>18790.0</td>\n",
       "      <td>405.0</td>\n",
       "    </tr>\n",
       "    <tr>\n",
       "      <th>8</th>\n",
       "      <td>GM0018</td>\n",
       "      <td>2016JJ00</td>\n",
       "      <td>72.0</td>\n",
       "      <td>21.0</td>\n",
       "      <td>163.0</td>\n",
       "      <td>1.0</td>\n",
       "      <td>3.0</td>\n",
       "      <td>4.0</td>\n",
       "      <td>63.0</td>\n",
       "      <td>6.0</td>\n",
       "      <td>...</td>\n",
       "      <td>98.0</td>\n",
       "      <td>2.0</td>\n",
       "      <td>220.0</td>\n",
       "      <td>3.0</td>\n",
       "      <td>9.0</td>\n",
       "      <td>30.0</td>\n",
       "      <td>Hoogezand-Sappemeer</td>\n",
       "      <td>Groningen</td>\n",
       "      <td>34360.0</td>\n",
       "      <td>521.0</td>\n",
       "    </tr>\n",
       "    <tr>\n",
       "      <th>9</th>\n",
       "      <td>GM0022</td>\n",
       "      <td>2016JJ00</td>\n",
       "      <td>33.0</td>\n",
       "      <td>5.0</td>\n",
       "      <td>41.0</td>\n",
       "      <td>0.0</td>\n",
       "      <td>2.0</td>\n",
       "      <td>0.0</td>\n",
       "      <td>15.0</td>\n",
       "      <td>3.0</td>\n",
       "      <td>...</td>\n",
       "      <td>23.0</td>\n",
       "      <td>3.0</td>\n",
       "      <td>91.0</td>\n",
       "      <td>2.0</td>\n",
       "      <td>5.0</td>\n",
       "      <td>11.0</td>\n",
       "      <td>Leek</td>\n",
       "      <td>Groningen</td>\n",
       "      <td>19607.0</td>\n",
       "      <td>307.0</td>\n",
       "    </tr>\n",
       "  </tbody>\n",
       "</table>\n",
       "<p>10 rows × 27 columns</p>\n",
       "</div>"
      ],
      "text/plain": [
       "  CBScode  Perioden    HIC: Theft / burglary dwelling, complete  \\\n",
       "0  GM0003  2016JJ00                                        24.0   \n",
       "1  GM0005  2016JJ00                                        10.0   \n",
       "2  GM0007  2016JJ00                                        13.0   \n",
       "3  GM0009  2016JJ00                                         7.0   \n",
       "4  GM0010  2016JJ00                                        49.0   \n",
       "5  GM0014  2016JJ00                                       696.0   \n",
       "6  GM0015  2016JJ00                                        12.0   \n",
       "7  GM0017  2016JJ00                                        63.0   \n",
       "8  GM0018  2016JJ00                                        72.0   \n",
       "9  GM0022  2016JJ00                                        33.0   \n",
       "\n",
       "     HIC: Theft / burglary dwelling, attempts  HIC: Violent Crime  \\\n",
       "0                                        12.0                67.0   \n",
       "1                                         2.0                19.0   \n",
       "2                                         4.0                30.0   \n",
       "3                                         0.0                 9.0   \n",
       "4                                        27.0               158.0   \n",
       "5                                       181.0              1454.0   \n",
       "6                                         2.0                18.0   \n",
       "7                                        20.0                42.0   \n",
       "8                                        21.0               163.0   \n",
       "9                                         5.0                41.0   \n",
       "\n",
       "   HIC: Street Roof  HIC: Robberies  Undermining public order  Threat  \\\n",
       "0               0.0             1.0                       3.0    27.0   \n",
       "1               0.0             0.0                       0.0     5.0   \n",
       "2               0.0             0.0                       3.0    12.0   \n",
       "3               0.0             0.0                       0.0     4.0   \n",
       "4               1.0             1.0                       6.0    49.0   \n",
       "5              46.0            16.0                      74.0   502.0   \n",
       "6               0.0             0.0                       0.0     4.0   \n",
       "7               1.0             0.0                       1.0    24.0   \n",
       "8               1.0             3.0                       4.0    63.0   \n",
       "9               0.0             2.0                       0.0    15.0   \n",
       "\n",
       "   Fire / Explosion            ...             mistreatment  \\\n",
       "0               0.0            ...                     40.0   \n",
       "1               1.0            ...                     14.0   \n",
       "2               3.0            ...                     18.0   \n",
       "3               0.0            ...                      5.0   \n",
       "4               9.0            ...                    100.0   \n",
       "5              52.0            ...                    906.0   \n",
       "6               3.0            ...                     12.0   \n",
       "7               3.0            ...                     18.0   \n",
       "8               6.0            ...                     98.0   \n",
       "9               3.0            ...                     23.0   \n",
       "\n",
       "   Overt violence (person)  Or destruction. cause damage  Arms Trade  \\\n",
       "0                      0.0                          54.0         1.0   \n",
       "1                      0.0                          44.0         0.0   \n",
       "2                      0.0                          35.0         1.0   \n",
       "3                      0.0                          24.0         0.0   \n",
       "4                      9.0                         151.0         7.0   \n",
       "5                     46.0                        1506.0        50.0   \n",
       "6                      2.0                          34.0         0.0   \n",
       "7                      0.0                          70.0         1.0   \n",
       "8                      2.0                         220.0         3.0   \n",
       "9                      3.0                          91.0         2.0   \n",
       "\n",
       "   pickpocketing  morals Felony         Municipality   Province  Population  \\\n",
       "0            3.0            3.0           Appingedam  Groningen     12049.0   \n",
       "1            1.0            6.0                Bedum  Groningen     10475.0   \n",
       "2            0.0            0.0         Bellingwedde  Groningen      8908.0   \n",
       "3            1.0            0.0    Boer, TenTen Boer  Groningen      7465.0   \n",
       "4            9.0           18.0             Delfzijl  Groningen     25686.0   \n",
       "5          574.0          171.0            Groningen  Groningen    198108.0   \n",
       "6            0.0            2.0           Grootegast  Groningen     12193.0   \n",
       "7            8.0            5.0                Haren  Groningen     18790.0   \n",
       "8            9.0           30.0  Hoogezand-Sappemeer  Groningen     34360.0   \n",
       "9            5.0           11.0                 Leek  Groningen     19607.0   \n",
       "\n",
       "   Population_density(p/km)  \n",
       "0                     507.0  \n",
       "1                     236.0  \n",
       "2                      86.0  \n",
       "3                     165.0  \n",
       "4                     198.0  \n",
       "5                    2474.0  \n",
       "6                     141.0  \n",
       "7                     405.0  \n",
       "8                     521.0  \n",
       "9                     307.0  \n",
       "\n",
       "[10 rows x 27 columns]"
      ]
     },
     "execution_count": 8,
     "metadata": {},
     "output_type": "execute_result"
    }
   ],
   "source": [
    "df_crime_pop.sort_values('CBScode').head(10)"
   ]
  },
  {
   "cell_type": "code",
   "execution_count": 9,
   "metadata": {},
   "outputs": [
    {
     "data": {
      "text/html": [
       "<div>\n",
       "<style scoped>\n",
       "    .dataframe tbody tr th:only-of-type {\n",
       "        vertical-align: middle;\n",
       "    }\n",
       "\n",
       "    .dataframe tbody tr th {\n",
       "        vertical-align: top;\n",
       "    }\n",
       "\n",
       "    .dataframe thead th {\n",
       "        text-align: right;\n",
       "    }\n",
       "</style>\n",
       "<table border=\"1\" class=\"dataframe\">\n",
       "  <thead>\n",
       "    <tr style=\"text-align: right;\">\n",
       "      <th></th>\n",
       "      <th>HIC: Theft / burglary dwelling, complete</th>\n",
       "      <th>HIC: Theft / burglary dwelling, attempts</th>\n",
       "      <th>HIC: Violent Crime</th>\n",
       "      <th>HIC: Street Roof</th>\n",
       "      <th>HIC: Robberies</th>\n",
       "      <th>Undermining public order</th>\n",
       "      <th>Threat</th>\n",
       "      <th>Fire / Explosion</th>\n",
       "      <th>Theft of moped, moped, bike</th>\n",
       "      <th>Theft of / from vehicles</th>\n",
       "      <th>...</th>\n",
       "      <th>Drug trafficking</th>\n",
       "      <th>Trespassing</th>\n",
       "      <th>mistreatment</th>\n",
       "      <th>Overt violence (person)</th>\n",
       "      <th>Or destruction. cause damage</th>\n",
       "      <th>Arms Trade</th>\n",
       "      <th>pickpocketing</th>\n",
       "      <th>morals Felony</th>\n",
       "      <th>Population</th>\n",
       "      <th>Population_density(p/km)</th>\n",
       "    </tr>\n",
       "  </thead>\n",
       "  <tbody>\n",
       "    <tr>\n",
       "      <th>count</th>\n",
       "      <td>415.000000</td>\n",
       "      <td>415.000000</td>\n",
       "      <td>415.000000</td>\n",
       "      <td>415.000000</td>\n",
       "      <td>415.000000</td>\n",
       "      <td>415.000000</td>\n",
       "      <td>415.000000</td>\n",
       "      <td>415.000000</td>\n",
       "      <td>415.000000</td>\n",
       "      <td>415.000000</td>\n",
       "      <td>...</td>\n",
       "      <td>415.000000</td>\n",
       "      <td>415.000000</td>\n",
       "      <td>415.000000</td>\n",
       "      <td>415.000000</td>\n",
       "      <td>415.000000</td>\n",
       "      <td>415.000000</td>\n",
       "      <td>415.000000</td>\n",
       "      <td>415.00000</td>\n",
       "      <td>415.000000</td>\n",
       "      <td>415.000000</td>\n",
       "    </tr>\n",
       "    <tr>\n",
       "      <th>mean</th>\n",
       "      <td>92.077108</td>\n",
       "      <td>41.585542</td>\n",
       "      <td>193.359036</td>\n",
       "      <td>10.036145</td>\n",
       "      <td>2.730120</td>\n",
       "      <td>13.139759</td>\n",
       "      <td>73.171084</td>\n",
       "      <td>11.481928</td>\n",
       "      <td>267.412048</td>\n",
       "      <td>186.559036</td>\n",
       "      <td>...</td>\n",
       "      <td>30.098795</td>\n",
       "      <td>5.556627</td>\n",
       "      <td>111.325301</td>\n",
       "      <td>8.862651</td>\n",
       "      <td>228.293976</td>\n",
       "      <td>11.773494</td>\n",
       "      <td>61.224096</td>\n",
       "      <td>17.66506</td>\n",
       "      <td>40559.891566</td>\n",
       "      <td>762.375904</td>\n",
       "    </tr>\n",
       "    <tr>\n",
       "      <th>std</th>\n",
       "      <td>213.936960</td>\n",
       "      <td>101.136497</td>\n",
       "      <td>546.357206</td>\n",
       "      <td>73.786388</td>\n",
       "      <td>11.317527</td>\n",
       "      <td>64.979185</td>\n",
       "      <td>214.856838</td>\n",
       "      <td>23.393484</td>\n",
       "      <td>852.857293</td>\n",
       "      <td>652.108232</td>\n",
       "      <td>...</td>\n",
       "      <td>91.290836</td>\n",
       "      <td>18.370477</td>\n",
       "      <td>307.085360</td>\n",
       "      <td>27.623031</td>\n",
       "      <td>455.501720</td>\n",
       "      <td>42.062833</td>\n",
       "      <td>421.804337</td>\n",
       "      <td>40.95775</td>\n",
       "      <td>66154.889360</td>\n",
       "      <td>963.543359</td>\n",
       "    </tr>\n",
       "    <tr>\n",
       "      <th>min</th>\n",
       "      <td>0.000000</td>\n",
       "      <td>0.000000</td>\n",
       "      <td>0.000000</td>\n",
       "      <td>0.000000</td>\n",
       "      <td>0.000000</td>\n",
       "      <td>0.000000</td>\n",
       "      <td>0.000000</td>\n",
       "      <td>0.000000</td>\n",
       "      <td>0.000000</td>\n",
       "      <td>0.000000</td>\n",
       "      <td>...</td>\n",
       "      <td>0.000000</td>\n",
       "      <td>0.000000</td>\n",
       "      <td>0.000000</td>\n",
       "      <td>0.000000</td>\n",
       "      <td>0.000000</td>\n",
       "      <td>0.000000</td>\n",
       "      <td>0.000000</td>\n",
       "      <td>0.00000</td>\n",
       "      <td>0.000000</td>\n",
       "      <td>0.000000</td>\n",
       "    </tr>\n",
       "    <tr>\n",
       "      <th>25%</th>\n",
       "      <td>24.000000</td>\n",
       "      <td>8.000000</td>\n",
       "      <td>37.000000</td>\n",
       "      <td>0.000000</td>\n",
       "      <td>0.000000</td>\n",
       "      <td>1.000000</td>\n",
       "      <td>14.000000</td>\n",
       "      <td>2.000000</td>\n",
       "      <td>30.000000</td>\n",
       "      <td>24.000000</td>\n",
       "      <td>...</td>\n",
       "      <td>4.000000</td>\n",
       "      <td>0.000000</td>\n",
       "      <td>20.500000</td>\n",
       "      <td>1.000000</td>\n",
       "      <td>54.000000</td>\n",
       "      <td>1.000000</td>\n",
       "      <td>2.000000</td>\n",
       "      <td>3.00000</td>\n",
       "      <td>15664.000000</td>\n",
       "      <td>193.000000</td>\n",
       "    </tr>\n",
       "    <tr>\n",
       "      <th>50%</th>\n",
       "      <td>42.000000</td>\n",
       "      <td>17.000000</td>\n",
       "      <td>75.000000</td>\n",
       "      <td>1.000000</td>\n",
       "      <td>1.000000</td>\n",
       "      <td>3.000000</td>\n",
       "      <td>29.000000</td>\n",
       "      <td>4.000000</td>\n",
       "      <td>74.000000</td>\n",
       "      <td>57.000000</td>\n",
       "      <td>...</td>\n",
       "      <td>11.000000</td>\n",
       "      <td>1.000000</td>\n",
       "      <td>42.000000</td>\n",
       "      <td>3.000000</td>\n",
       "      <td>107.000000</td>\n",
       "      <td>4.000000</td>\n",
       "      <td>7.000000</td>\n",
       "      <td>8.00000</td>\n",
       "      <td>25580.000000</td>\n",
       "      <td>390.000000</td>\n",
       "    </tr>\n",
       "    <tr>\n",
       "      <th>75%</th>\n",
       "      <td>81.000000</td>\n",
       "      <td>35.000000</td>\n",
       "      <td>147.500000</td>\n",
       "      <td>3.500000</td>\n",
       "      <td>2.000000</td>\n",
       "      <td>6.000000</td>\n",
       "      <td>57.000000</td>\n",
       "      <td>11.000000</td>\n",
       "      <td>179.000000</td>\n",
       "      <td>138.500000</td>\n",
       "      <td>...</td>\n",
       "      <td>23.000000</td>\n",
       "      <td>4.000000</td>\n",
       "      <td>88.000000</td>\n",
       "      <td>7.000000</td>\n",
       "      <td>217.500000</td>\n",
       "      <td>8.000000</td>\n",
       "      <td>19.000000</td>\n",
       "      <td>16.50000</td>\n",
       "      <td>43150.000000</td>\n",
       "      <td>892.500000</td>\n",
       "    </tr>\n",
       "    <tr>\n",
       "      <th>max</th>\n",
       "      <td>2962.000000</td>\n",
       "      <td>1351.000000</td>\n",
       "      <td>7645.000000</td>\n",
       "      <td>1331.000000</td>\n",
       "      <td>176.000000</td>\n",
       "      <td>1115.000000</td>\n",
       "      <td>3017.000000</td>\n",
       "      <td>243.000000</td>\n",
       "      <td>11536.000000</td>\n",
       "      <td>9155.000000</td>\n",
       "      <td>...</td>\n",
       "      <td>1293.000000</td>\n",
       "      <td>265.000000</td>\n",
       "      <td>4356.000000</td>\n",
       "      <td>403.000000</td>\n",
       "      <td>4956.000000</td>\n",
       "      <td>556.000000</td>\n",
       "      <td>8009.000000</td>\n",
       "      <td>530.00000</td>\n",
       "      <td>853312.000000</td>\n",
       "      <td>6131.000000</td>\n",
       "    </tr>\n",
       "  </tbody>\n",
       "</table>\n",
       "<p>8 rows × 23 columns</p>\n",
       "</div>"
      ],
      "text/plain": [
       "         HIC: Theft / burglary dwelling, complete  \\\n",
       "count                                  415.000000   \n",
       "mean                                    92.077108   \n",
       "std                                    213.936960   \n",
       "min                                      0.000000   \n",
       "25%                                     24.000000   \n",
       "50%                                     42.000000   \n",
       "75%                                     81.000000   \n",
       "max                                   2962.000000   \n",
       "\n",
       "         HIC: Theft / burglary dwelling, attempts  HIC: Violent Crime  \\\n",
       "count                                  415.000000          415.000000   \n",
       "mean                                    41.585542          193.359036   \n",
       "std                                    101.136497          546.357206   \n",
       "min                                      0.000000            0.000000   \n",
       "25%                                      8.000000           37.000000   \n",
       "50%                                     17.000000           75.000000   \n",
       "75%                                     35.000000          147.500000   \n",
       "max                                   1351.000000         7645.000000   \n",
       "\n",
       "       HIC: Street Roof  HIC: Robberies  Undermining public order  \\\n",
       "count        415.000000      415.000000                415.000000   \n",
       "mean          10.036145        2.730120                 13.139759   \n",
       "std           73.786388       11.317527                 64.979185   \n",
       "min            0.000000        0.000000                  0.000000   \n",
       "25%            0.000000        0.000000                  1.000000   \n",
       "50%            1.000000        1.000000                  3.000000   \n",
       "75%            3.500000        2.000000                  6.000000   \n",
       "max         1331.000000      176.000000               1115.000000   \n",
       "\n",
       "            Threat  Fire / Explosion  Theft of moped, moped, bike  \\\n",
       "count   415.000000        415.000000                   415.000000   \n",
       "mean     73.171084         11.481928                   267.412048   \n",
       "std     214.856838         23.393484                   852.857293   \n",
       "min       0.000000          0.000000                     0.000000   \n",
       "25%      14.000000          2.000000                    30.000000   \n",
       "50%      29.000000          4.000000                    74.000000   \n",
       "75%      57.000000         11.000000                   179.000000   \n",
       "max    3017.000000        243.000000                 11536.000000   \n",
       "\n",
       "       Theft of / from vehicles            ...             Drug trafficking  \\\n",
       "count                415.000000            ...                   415.000000   \n",
       "mean                 186.559036            ...                    30.098795   \n",
       "std                  652.108232            ...                    91.290836   \n",
       "min                    0.000000            ...                     0.000000   \n",
       "25%                   24.000000            ...                     4.000000   \n",
       "50%                   57.000000            ...                    11.000000   \n",
       "75%                  138.500000            ...                    23.000000   \n",
       "max                 9155.000000            ...                  1293.000000   \n",
       "\n",
       "       Trespassing  mistreatment  Overt violence (person)  \\\n",
       "count   415.000000    415.000000               415.000000   \n",
       "mean      5.556627    111.325301                 8.862651   \n",
       "std      18.370477    307.085360                27.623031   \n",
       "min       0.000000      0.000000                 0.000000   \n",
       "25%       0.000000     20.500000                 1.000000   \n",
       "50%       1.000000     42.000000                 3.000000   \n",
       "75%       4.000000     88.000000                 7.000000   \n",
       "max     265.000000   4356.000000               403.000000   \n",
       "\n",
       "       Or destruction. cause damage  Arms Trade  pickpocketing  morals Felony  \\\n",
       "count                    415.000000  415.000000     415.000000      415.00000   \n",
       "mean                     228.293976   11.773494      61.224096       17.66506   \n",
       "std                      455.501720   42.062833     421.804337       40.95775   \n",
       "min                        0.000000    0.000000       0.000000        0.00000   \n",
       "25%                       54.000000    1.000000       2.000000        3.00000   \n",
       "50%                      107.000000    4.000000       7.000000        8.00000   \n",
       "75%                      217.500000    8.000000      19.000000       16.50000   \n",
       "max                     4956.000000  556.000000    8009.000000      530.00000   \n",
       "\n",
       "          Population  Population_density(p/km)  \n",
       "count     415.000000                415.000000  \n",
       "mean    40559.891566                762.375904  \n",
       "std     66154.889360                963.543359  \n",
       "min         0.000000                  0.000000  \n",
       "25%     15664.000000                193.000000  \n",
       "50%     25580.000000                390.000000  \n",
       "75%     43150.000000                892.500000  \n",
       "max    853312.000000               6131.000000  \n",
       "\n",
       "[8 rows x 23 columns]"
      ]
     },
     "execution_count": 9,
     "metadata": {},
     "output_type": "execute_result"
    }
   ],
   "source": [
    "df_crime_pop.describe()"
   ]
  },
  {
   "cell_type": "markdown",
   "metadata": {},
   "source": [
    "Next, let's create a **scatterplot matrix**. Scatterplot matrices plot the distribution of each column along the diagonal, and then plot a scatterplot matrix for the combination of each variable. They make for an efficient tool to look for errors in our data.\n",
    "\n",
    "We can even have the plotting package color each entry by its class to look for trends within the classes."
   ]
  },
  {
   "cell_type": "code",
   "execution_count": 10,
   "metadata": {},
   "outputs": [
    {
     "data": {
      "text/plain": [
       "<matplotlib.legend.Legend at 0x1a20448ef0>"
      ]
     },
     "execution_count": 10,
     "metadata": {},
     "output_type": "execute_result"
    },
    {
     "data": {
      "image/png": "[encoded data removed]",
      "text/plain": [
       "<matplotlib.figure.Figure at 0x1a1ed5da58>"
      ]
     },
     "metadata": {},
     "output_type": "display_data"
    }
   ],
   "source": [
    "df_plot = df_crime_pop[['HIC: Violent Crime','HIC: Street Roof', 'HIC: Robberies', 'Population_density(p/km)', 'Province']]\n",
    "sns.pairplot(df_plot, hue=\"Province\")\n",
    "plt.title('Correlation of High Impact Crime'); plt.legend()"
   ]
  },
  {
   "cell_type": "markdown",
   "metadata": {},
   "source": [
    "#### Correlation Violent crimes vs Population Density"
   ]
  },
  {
   "cell_type": "code",
   "execution_count": 11,
   "metadata": {},
   "outputs": [],
   "source": [
    "df_plot = df_crime_pop[['HIC: Violent Crime','Arms Trade']]"
   ]
  },
  {
   "cell_type": "code",
   "execution_count": 12,
   "metadata": {},
   "outputs": [],
   "source": [
    "df_plot = df_plot[(df_plot['Arms Trade'] < 10 ) & (df_plot['HIC: Violent Crime'] < 200) ]"
   ]
  },
  {
   "cell_type": "code",
   "execution_count": 13,
   "metadata": {},
   "outputs": [
    {
     "data": {
      "text/plain": [
       "Text(0.5,1,'Relation')"
      ]
     },
     "execution_count": 13,
     "metadata": {},
     "output_type": "execute_result"
    },
    {
     "data": {
      "image/png": "[encoded data removed]",
      "text/plain": [
       "<matplotlib.figure.Figure at 0x1a205b56d8>"
      ]
     },
     "metadata": {},
     "output_type": "display_data"
    }
   ],
   "source": [
    "plt.figure(figsize=[14, 7])\n",
    "sns.kdeplot(df_plot['Arms Trade'], df_plot['HIC: Violent Crime'], cmap=\"Reds\", shade=True, shade_lowest=False)\n",
    "plt.title('Relation')"
   ]
  },
  {
   "cell_type": "markdown",
   "metadata": {},
   "source": [
    "---\n",
    "## K-means Method"
   ]
  },
  {
   "cell_type": "markdown",
   "metadata": {},
   "source": [
    "The most basic usage of K-means clustering requires only a choice for the number of clusters, . We rarely know the correct number of clusters a priori, but the following simple heuristic sometimes works well:  \n",
    "\n",
    "where is the number of rows in your dataset. By default, the maximum number of iterations is 10, and all features in the input dataset are used"
   ]
  },
  {
   "cell_type": "code",
   "execution_count": 14,
   "metadata": {},
   "outputs": [],
   "source": [
    "sf = tc.SFrame(data=df_crime_pop.loc[:, df_crime_pop.columns != 'Population']._get_numeric_data())"
   ]
  },
  {
   "cell_type": "code",
   "execution_count": 15,
   "metadata": {},
   "outputs": [],
   "source": [
    "K = int(np.sqrt(sf.num_rows() / 2.0))"
   ]
  },
  {
   "cell_type": "code",
   "execution_count": 16,
   "metadata": {},
   "outputs": [
    {
     "name": "stdout",
     "output_type": "stream",
     "text": [
      "Number of Clusters K: 14\n"
     ]
    }
   ],
   "source": [
    "print('Number of Clusters K: {}'.format(K))"
   ]
  },
  {
   "cell_type": "code",
   "execution_count": 17,
   "metadata": {},
   "outputs": [
    {
     "data": {
      "text/html": [
       "<pre>Batch size is larger than the input dataset. Switching to an exact Kmeans method.</pre>"
      ],
      "text/plain": [
       "Batch size is larger than the input dataset. Switching to an exact Kmeans method."
      ]
     },
     "metadata": {},
     "output_type": "display_data"
    },
    {
     "data": {
      "text/html": [
       "<pre>Choosing initial cluster centers with Kmeans++.</pre>"
      ],
      "text/plain": [
       "Choosing initial cluster centers with Kmeans++."
      ]
     },
     "metadata": {},
     "output_type": "display_data"
    },
    {
     "data": {
      "text/html": [
       "<pre>+---------------+-----------+</pre>"
      ],
      "text/plain": [
       "+---------------+-----------+"
      ]
     },
     "metadata": {},
     "output_type": "display_data"
    },
    {
     "data": {
      "text/html": [
       "<pre>| Center number | Row index |</pre>"
      ],
      "text/plain": [
       "| Center number | Row index |"
      ]
     },
     "metadata": {},
     "output_type": "display_data"
    },
    {
     "data": {
      "text/html": [
       "<pre>+---------------+-----------+</pre>"
      ],
      "text/plain": [
       "+---------------+-----------+"
      ]
     },
     "metadata": {},
     "output_type": "display_data"
    },
    {
     "data": {
      "text/html": [
       "<pre>| 0             | 301       |</pre>"
      ],
      "text/plain": [
       "| 0             | 301       |"
      ]
     },
     "metadata": {},
     "output_type": "display_data"
    },
    {
     "data": {
      "text/html": [
       "<pre>| 1             | 136       |</pre>"
      ],
      "text/plain": [
       "| 1             | 136       |"
      ]
     },
     "metadata": {},
     "output_type": "display_data"
    },
    {
     "data": {
      "text/html": [
       "<pre>| 2             | 126       |</pre>"
      ],
      "text/plain": [
       "| 2             | 126       |"
      ]
     },
     "metadata": {},
     "output_type": "display_data"
    },
    {
     "data": {
      "text/html": [
       "<pre>| 3             | 314       |</pre>"
      ],
      "text/plain": [
       "| 3             | 314       |"
      ]
     },
     "metadata": {},
     "output_type": "display_data"
    },
    {
     "data": {
      "text/html": [
       "<pre>| 4             | 106       |</pre>"
      ],
      "text/plain": [
       "| 4             | 106       |"
      ]
     },
     "metadata": {},
     "output_type": "display_data"
    },
    {
     "data": {
      "text/html": [
       "<pre>| 5             | 332       |</pre>"
      ],
      "text/plain": [
       "| 5             | 332       |"
      ]
     },
     "metadata": {},
     "output_type": "display_data"
    },
    {
     "data": {
      "text/html": [
       "<pre>| 10            | 23        |</pre>"
      ],
      "text/plain": [
       "| 10            | 23        |"
      ]
     },
     "metadata": {},
     "output_type": "display_data"
    },
    {
     "data": {
      "text/html": [
       "<pre>+---------------+-----------+</pre>"
      ],
      "text/plain": [
       "+---------------+-----------+"
      ]
     },
     "metadata": {},
     "output_type": "display_data"
    },
    {
     "data": {
      "text/html": [
       "<pre>Starting kmeans model training.</pre>"
      ],
      "text/plain": [
       "Starting kmeans model training."
      ]
     },
     "metadata": {},
     "output_type": "display_data"
    },
    {
     "data": {
      "text/html": [
       "<pre>Assigning points to initial cluster centers.</pre>"
      ],
      "text/plain": [
       "Assigning points to initial cluster centers."
      ]
     },
     "metadata": {},
     "output_type": "display_data"
    },
    {
     "data": {
      "text/html": [
       "<pre>+-----------+-------------------------------+</pre>"
      ],
      "text/plain": [
       "+-----------+-------------------------------+"
      ]
     },
     "metadata": {},
     "output_type": "display_data"
    },
    {
     "data": {
      "text/html": [
       "<pre>| Iteration | Number of changed assignments |</pre>"
      ],
      "text/plain": [
       "| Iteration | Number of changed assignments |"
      ]
     },
     "metadata": {},
     "output_type": "display_data"
    },
    {
     "data": {
      "text/html": [
       "<pre>+-----------+-------------------------------+</pre>"
      ],
      "text/plain": [
       "+-----------+-------------------------------+"
      ]
     },
     "metadata": {},
     "output_type": "display_data"
    },
    {
     "data": {
      "text/html": [
       "<pre>| 1         | 94                            |</pre>"
      ],
      "text/plain": [
       "| 1         | 94                            |"
      ]
     },
     "metadata": {},
     "output_type": "display_data"
    },
    {
     "data": {
      "text/html": [
       "<pre>| 2         | 37                            |</pre>"
      ],
      "text/plain": [
       "| 2         | 37                            |"
      ]
     },
     "metadata": {},
     "output_type": "display_data"
    },
    {
     "data": {
      "text/html": [
       "<pre>| 3         | 33                            |</pre>"
      ],
      "text/plain": [
       "| 3         | 33                            |"
      ]
     },
     "metadata": {},
     "output_type": "display_data"
    },
    {
     "data": {
      "text/html": [
       "<pre>| 4         | 35                            |</pre>"
      ],
      "text/plain": [
       "| 4         | 35                            |"
      ]
     },
     "metadata": {},
     "output_type": "display_data"
    },
    {
     "data": {
      "text/html": [
       "<pre>| 5         | 20                            |</pre>"
      ],
      "text/plain": [
       "| 5         | 20                            |"
      ]
     },
     "metadata": {},
     "output_type": "display_data"
    },
    {
     "data": {
      "text/html": [
       "<pre>| 6         | 11                            |</pre>"
      ],
      "text/plain": [
       "| 6         | 11                            |"
      ]
     },
     "metadata": {},
     "output_type": "display_data"
    },
    {
     "data": {
      "text/html": [
       "<pre>| 7         | 11                            |</pre>"
      ],
      "text/plain": [
       "| 7         | 11                            |"
      ]
     },
     "metadata": {},
     "output_type": "display_data"
    },
    {
     "data": {
      "text/html": [
       "<pre>| 8         | 2                             |</pre>"
      ],
      "text/plain": [
       "| 8         | 2                             |"
      ]
     },
     "metadata": {},
     "output_type": "display_data"
    },
    {
     "data": {
      "text/html": [
       "<pre>| 9         | 0                             |</pre>"
      ],
      "text/plain": [
       "| 9         | 0                             |"
      ]
     },
     "metadata": {},
     "output_type": "display_data"
    },
    {
     "data": {
      "text/html": [
       "<pre>+-----------+-------------------------------+</pre>"
      ],
      "text/plain": [
       "+-----------+-------------------------------+"
      ]
     },
     "metadata": {},
     "output_type": "display_data"
    },
    {
     "name": "stdout",
     "output_type": "stream",
     "text": [
      "Class                            : KmeansModel\n",
      "\n",
      "Schema\n",
      "------\n",
      "Number of clusters               : 14\n",
      "Number of examples               : 415\n",
      "Number of feature columns        : 22\n",
      "Number of unpacked features      : 22\n",
      "Row label name                   : row_id\n",
      "\n",
      "Training Summary\n",
      "----------------\n",
      "Training method                  : elkan\n",
      "Number of training iterations    : 9\n",
      "Batch size                       : 415\n",
      "Total training time (seconds)    : 1.0714\n",
      "\n",
      "Accessible fields\n",
      "-----------------\n",
      "cluster_id                      : An SFrame containing the cluster assignments.\n",
      "cluster_info                    : An SFrame containing the cluster centers.\n"
     ]
    }
   ],
   "source": [
    "kmeans_model = tc.kmeans.create(sf, num_clusters=K)\n",
    "kmeans_model.summary()"
   ]
  },
  {
   "cell_type": "code",
   "execution_count": 18,
   "metadata": {},
   "outputs": [],
   "source": [
    "#kmeans_model.summary"
   ]
  },
  {
   "cell_type": "markdown",
   "metadata": {},
   "source": [
    "The model summary shows the usual fields about model schema, training time, and training iterations. It also shows that the K-means results are returned in two SFrames contained in the model: `cluster_id` and `cluster_info`. The cluster_info SFrame indicates the final cluster centers, one per row, in terms of the same features used to create the model."
   ]
  },
  {
   "cell_type": "markdown",
   "metadata": {},
   "source": [
    "The last three columns of the cluster_info SFrame indicate metadata about the corresponding cluster: ID number, number of points in the cluster, and the within-cluster sum of squared distances to the center."
   ]
  },
  {
   "cell_type": "code",
   "execution_count": 19,
   "metadata": {},
   "outputs": [
    {
     "name": "stdout",
     "output_type": "stream",
     "text": [
      "+------------+------+----------------------+\n",
      "| cluster_id | size | sum_squared_distance |\n",
      "+------------+------+----------------------+\n",
      "|     0      | 170  |  2801916.9219970703  |\n",
      "|     1      |  1   |         0.0          |\n",
      "|     2      |  1   |         0.0          |\n",
      "|     3      |  13  |   6074178.7265625    |\n",
      "|     4      |  38  |    6291539.546875    |\n",
      "|     5      |  40  |  3053699.4822998047  |\n",
      "|     6      |  1   |         0.0          |\n",
      "|     7      |  1   |         0.0          |\n",
      "|     8      |  7   |    4682585.609375    |\n",
      "|     9      |  16  |  6458010.130859375   |\n",
      "|     10     |  91  |  3607721.7474365234  |\n",
      "|     11     |  3   |     4564344.875      |\n",
      "|     12     |  6   |    4000304.71875     |\n",
      "|     13     |  27  |  3997332.478515625   |\n",
      "+------------+------+----------------------+\n",
      "[14 rows x 3 columns]\n",
      "\n"
     ]
    }
   ],
   "source": [
    "kmeans_model.cluster_info[['cluster_id', 'size', 'sum_squared_distance']].print_rows(num_rows=14, num_columns=3)"
   ]
  },
  {
   "cell_type": "markdown",
   "metadata": {},
   "source": [
    "The `cluster_id` field of the model shows the cluster assignment for each input data point, along with the Euclidean distance from the point to its assigned cluster's center."
   ]
  },
  {
   "cell_type": "code",
   "execution_count": 20,
   "metadata": {},
   "outputs": [],
   "source": [
    "clusters = kmeans_model.cluster_id"
   ]
  },
  {
   "cell_type": "code",
   "execution_count": 21,
   "metadata": {},
   "outputs": [],
   "source": [
    "#clusters.head()"
   ]
  },
  {
   "cell_type": "code",
   "execution_count": 22,
   "metadata": {},
   "outputs": [
    {
     "data": {
      "text/html": [
       "<div style=\"max-height:1000px;max-width:1500px;overflow:auto;\"><table frame=\"box\" rules=\"cols\">\n",
       "    <tr>\n",
       "        <th style=\"padding-left: 1em; padding-right: 1em; text-align: center\">row_id</th>\n",
       "        <th style=\"padding-left: 1em; padding-right: 1em; text-align: center\">cluster_id</th>\n",
       "        <th style=\"padding-left: 1em; padding-right: 1em; text-align: center\">distance</th>\n",
       "    </tr>\n",
       "    <tr>\n",
       "        <td style=\"padding-left: 1em; padding-right: 1em; text-align: center; vertical-align: top\">30</td>\n",
       "        <td style=\"padding-left: 1em; padding-right: 1em; text-align: center; vertical-align: top\">3</td>\n",
       "        <td style=\"padding-left: 1em; padding-right: 1em; text-align: center; vertical-align: top\">793.1000366210938</td>\n",
       "    </tr>\n",
       "    <tr>\n",
       "        <td style=\"padding-left: 1em; padding-right: 1em; text-align: center; vertical-align: top\">49</td>\n",
       "        <td style=\"padding-left: 1em; padding-right: 1em; text-align: center; vertical-align: top\">3</td>\n",
       "        <td style=\"padding-left: 1em; padding-right: 1em; text-align: center; vertical-align: top\">677.0336303710938</td>\n",
       "    </tr>\n",
       "    <tr>\n",
       "        <td style=\"padding-left: 1em; padding-right: 1em; text-align: center; vertical-align: top\">54</td>\n",
       "        <td style=\"padding-left: 1em; padding-right: 1em; text-align: center; vertical-align: top\">3</td>\n",
       "        <td style=\"padding-left: 1em; padding-right: 1em; text-align: center; vertical-align: top\">552.8435668945312</td>\n",
       "    </tr>\n",
       "    <tr>\n",
       "        <td style=\"padding-left: 1em; padding-right: 1em; text-align: center; vertical-align: top\">65</td>\n",
       "        <td style=\"padding-left: 1em; padding-right: 1em; text-align: center; vertical-align: top\">3</td>\n",
       "        <td style=\"padding-left: 1em; padding-right: 1em; text-align: center; vertical-align: top\">360.545654296875</td>\n",
       "    </tr>\n",
       "    <tr>\n",
       "        <td style=\"padding-left: 1em; padding-right: 1em; text-align: center; vertical-align: top\">68</td>\n",
       "        <td style=\"padding-left: 1em; padding-right: 1em; text-align: center; vertical-align: top\">3</td>\n",
       "        <td style=\"padding-left: 1em; padding-right: 1em; text-align: center; vertical-align: top\">964.25830078125</td>\n",
       "    </tr>\n",
       "    <tr>\n",
       "        <td style=\"padding-left: 1em; padding-right: 1em; text-align: center; vertical-align: top\">113</td>\n",
       "        <td style=\"padding-left: 1em; padding-right: 1em; text-align: center; vertical-align: top\">3</td>\n",
       "        <td style=\"padding-left: 1em; padding-right: 1em; text-align: center; vertical-align: top\">1103.3250732421875</td>\n",
       "    </tr>\n",
       "    <tr>\n",
       "        <td style=\"padding-left: 1em; padding-right: 1em; text-align: center; vertical-align: top\">156</td>\n",
       "        <td style=\"padding-left: 1em; padding-right: 1em; text-align: center; vertical-align: top\">3</td>\n",
       "        <td style=\"padding-left: 1em; padding-right: 1em; text-align: center; vertical-align: top\">680.1173095703125</td>\n",
       "    </tr>\n",
       "    <tr>\n",
       "        <td style=\"padding-left: 1em; padding-right: 1em; text-align: center; vertical-align: top\">178</td>\n",
       "        <td style=\"padding-left: 1em; padding-right: 1em; text-align: center; vertical-align: top\">3</td>\n",
       "        <td style=\"padding-left: 1em; padding-right: 1em; text-align: center; vertical-align: top\">680.1782836914062</td>\n",
       "    </tr>\n",
       "    <tr>\n",
       "        <td style=\"padding-left: 1em; padding-right: 1em; text-align: center; vertical-align: top\">188</td>\n",
       "        <td style=\"padding-left: 1em; padding-right: 1em; text-align: center; vertical-align: top\">3</td>\n",
       "        <td style=\"padding-left: 1em; padding-right: 1em; text-align: center; vertical-align: top\">330.584716796875</td>\n",
       "    </tr>\n",
       "    <tr>\n",
       "        <td style=\"padding-left: 1em; padding-right: 1em; text-align: center; vertical-align: top\">274</td>\n",
       "        <td style=\"padding-left: 1em; padding-right: 1em; text-align: center; vertical-align: top\">3</td>\n",
       "        <td style=\"padding-left: 1em; padding-right: 1em; text-align: center; vertical-align: top\">460.7885437011719</td>\n",
       "    </tr>\n",
       "</table>\n",
       "[? rows x 3 columns]<br/>Note: Only the head of the SFrame is printed. This SFrame is lazily evaluated.<br/>You can use sf.materialize() to force materialization.\n",
       "</div>"
      ],
      "text/plain": [
       "Columns:\n",
       "\trow_id\tint\n",
       "\tcluster_id\tint\n",
       "\tdistance\tfloat\n",
       "\n",
       "Rows: Unknown\n",
       "\n",
       "Data:\n",
       "+--------+------------+--------------------+\n",
       "| row_id | cluster_id |      distance      |\n",
       "+--------+------------+--------------------+\n",
       "|   30   |     3      | 793.1000366210938  |\n",
       "|   49   |     3      | 677.0336303710938  |\n",
       "|   54   |     3      | 552.8435668945312  |\n",
       "|   65   |     3      |  360.545654296875  |\n",
       "|   68   |     3      |  964.25830078125   |\n",
       "|  113   |     3      | 1103.3250732421875 |\n",
       "|  156   |     3      | 680.1173095703125  |\n",
       "|  178   |     3      | 680.1782836914062  |\n",
       "|  188   |     3      |  330.584716796875  |\n",
       "|  274   |     3      | 460.7885437011719  |\n",
       "+--------+------------+--------------------+\n",
       "[? rows x 3 columns]\n",
       "Note: Only the head of the SFrame is printed. This SFrame is lazily evaluated.\n",
       "You can use sf.materialize() to force materialization."
      ]
     },
     "execution_count": 22,
     "metadata": {},
     "output_type": "execute_result"
    }
   ],
   "source": [
    "clusters[clusters['cluster_id']==3]"
   ]
  },
  {
   "cell_type": "code",
   "execution_count": 23,
   "metadata": {},
   "outputs": [],
   "source": [
    "row_ids = clusters[clusters['cluster_id']==3]['row_id']"
   ]
  },
  {
   "cell_type": "code",
   "execution_count": 24,
   "metadata": {},
   "outputs": [
    {
     "data": {
      "text/html": [
       "<div>\n",
       "<style scoped>\n",
       "    .dataframe tbody tr th:only-of-type {\n",
       "        vertical-align: middle;\n",
       "    }\n",
       "\n",
       "    .dataframe tbody tr th {\n",
       "        vertical-align: top;\n",
       "    }\n",
       "\n",
       "    .dataframe thead th {\n",
       "        text-align: right;\n",
       "    }\n",
       "</style>\n",
       "<table border=\"1\" class=\"dataframe\">\n",
       "  <thead>\n",
       "    <tr style=\"text-align: right;\">\n",
       "      <th></th>\n",
       "      <th>CBScode</th>\n",
       "      <th>Perioden</th>\n",
       "      <th>HIC: Theft / burglary dwelling, complete</th>\n",
       "      <th>HIC: Theft / burglary dwelling, attempts</th>\n",
       "      <th>HIC: Violent Crime</th>\n",
       "      <th>HIC: Street Roof</th>\n",
       "      <th>HIC: Robberies</th>\n",
       "      <th>Undermining public order</th>\n",
       "      <th>Threat</th>\n",
       "      <th>Fire / Explosion</th>\n",
       "      <th>...</th>\n",
       "      <th>mistreatment</th>\n",
       "      <th>Overt violence (person)</th>\n",
       "      <th>Or destruction. cause damage</th>\n",
       "      <th>Arms Trade</th>\n",
       "      <th>pickpocketing</th>\n",
       "      <th>morals Felony</th>\n",
       "      <th>Municipality</th>\n",
       "      <th>Province</th>\n",
       "      <th>Population</th>\n",
       "      <th>Population_density(p/km)</th>\n",
       "    </tr>\n",
       "  </thead>\n",
       "  <tbody>\n",
       "    <tr>\n",
       "      <th>30</th>\n",
       "      <td>GM0080</td>\n",
       "      <td>2016JJ00</td>\n",
       "      <td>418.0</td>\n",
       "      <td>187.0</td>\n",
       "      <td>675.0</td>\n",
       "      <td>21.0</td>\n",
       "      <td>5.0</td>\n",
       "      <td>116.0</td>\n",
       "      <td>252.0</td>\n",
       "      <td>34.0</td>\n",
       "      <td>...</td>\n",
       "      <td>397.0</td>\n",
       "      <td>26.0</td>\n",
       "      <td>752.0</td>\n",
       "      <td>36.0</td>\n",
       "      <td>83.0</td>\n",
       "      <td>87.0</td>\n",
       "      <td>Leeuwarden</td>\n",
       "      <td>Friesland</td>\n",
       "      <td>108113.0</td>\n",
       "      <td>713.0</td>\n",
       "    </tr>\n",
       "    <tr>\n",
       "      <th>49</th>\n",
       "      <td>GM0150</td>\n",
       "      <td>2016JJ00</td>\n",
       "      <td>259.0</td>\n",
       "      <td>128.0</td>\n",
       "      <td>544.0</td>\n",
       "      <td>7.0</td>\n",
       "      <td>6.0</td>\n",
       "      <td>25.0</td>\n",
       "      <td>210.0</td>\n",
       "      <td>57.0</td>\n",
       "      <td>...</td>\n",
       "      <td>319.0</td>\n",
       "      <td>15.0</td>\n",
       "      <td>570.0</td>\n",
       "      <td>33.0</td>\n",
       "      <td>78.0</td>\n",
       "      <td>57.0</td>\n",
       "      <td>Deventer</td>\n",
       "      <td>Overijssel</td>\n",
       "      <td>98327.0</td>\n",
       "      <td>752.0</td>\n",
       "    </tr>\n",
       "    <tr>\n",
       "      <th>54</th>\n",
       "      <td>GM0164</td>\n",
       "      <td>2016JJ00</td>\n",
       "      <td>239.0</td>\n",
       "      <td>66.0</td>\n",
       "      <td>371.0</td>\n",
       "      <td>6.0</td>\n",
       "      <td>3.0</td>\n",
       "      <td>14.0</td>\n",
       "      <td>138.0</td>\n",
       "      <td>29.0</td>\n",
       "      <td>...</td>\n",
       "      <td>213.0</td>\n",
       "      <td>20.0</td>\n",
       "      <td>395.0</td>\n",
       "      <td>26.0</td>\n",
       "      <td>44.0</td>\n",
       "      <td>27.0</td>\n",
       "      <td>Hengelo</td>\n",
       "      <td>Overijssel</td>\n",
       "      <td>80975.0</td>\n",
       "      <td>1329.0</td>\n",
       "    </tr>\n",
       "    <tr>\n",
       "      <th>65</th>\n",
       "      <td>GM0193</td>\n",
       "      <td>2016JJ00</td>\n",
       "      <td>293.0</td>\n",
       "      <td>126.0</td>\n",
       "      <td>650.0</td>\n",
       "      <td>11.0</td>\n",
       "      <td>12.0</td>\n",
       "      <td>39.0</td>\n",
       "      <td>247.0</td>\n",
       "      <td>38.0</td>\n",
       "      <td>...</td>\n",
       "      <td>384.0</td>\n",
       "      <td>19.0</td>\n",
       "      <td>702.0</td>\n",
       "      <td>32.0</td>\n",
       "      <td>142.0</td>\n",
       "      <td>78.0</td>\n",
       "      <td>Zwolle</td>\n",
       "      <td>Overijssel</td>\n",
       "      <td>123211.0</td>\n",
       "      <td>1091.0</td>\n",
       "    </tr>\n",
       "    <tr>\n",
       "      <th>68</th>\n",
       "      <td>GM0200</td>\n",
       "      <td>2016JJ00</td>\n",
       "      <td>392.0</td>\n",
       "      <td>130.0</td>\n",
       "      <td>651.0</td>\n",
       "      <td>20.0</td>\n",
       "      <td>9.0</td>\n",
       "      <td>43.0</td>\n",
       "      <td>235.0</td>\n",
       "      <td>35.0</td>\n",
       "      <td>...</td>\n",
       "      <td>390.0</td>\n",
       "      <td>26.0</td>\n",
       "      <td>873.0</td>\n",
       "      <td>45.0</td>\n",
       "      <td>142.0</td>\n",
       "      <td>57.0</td>\n",
       "      <td>Apeldoorn</td>\n",
       "      <td>Gelderland</td>\n",
       "      <td>157535.0</td>\n",
       "      <td>462.0</td>\n",
       "    </tr>\n",
       "    <tr>\n",
       "      <th>113</th>\n",
       "      <td>GM0307</td>\n",
       "      <td>2016JJ00</td>\n",
       "      <td>318.0</td>\n",
       "      <td>242.0</td>\n",
       "      <td>655.0</td>\n",
       "      <td>21.0</td>\n",
       "      <td>13.0</td>\n",
       "      <td>50.0</td>\n",
       "      <td>210.0</td>\n",
       "      <td>45.0</td>\n",
       "      <td>...</td>\n",
       "      <td>398.0</td>\n",
       "      <td>47.0</td>\n",
       "      <td>988.0</td>\n",
       "      <td>44.0</td>\n",
       "      <td>199.0</td>\n",
       "      <td>46.0</td>\n",
       "      <td>Amersfoort</td>\n",
       "      <td>Utrecht</td>\n",
       "      <td>150943.0</td>\n",
       "      <td>2358.0</td>\n",
       "    </tr>\n",
       "    <tr>\n",
       "      <th>156</th>\n",
       "      <td>GM0402</td>\n",
       "      <td>2016JJ00</td>\n",
       "      <td>247.0</td>\n",
       "      <td>109.0</td>\n",
       "      <td>434.0</td>\n",
       "      <td>14.0</td>\n",
       "      <td>5.0</td>\n",
       "      <td>20.0</td>\n",
       "      <td>157.0</td>\n",
       "      <td>25.0</td>\n",
       "      <td>...</td>\n",
       "      <td>247.0</td>\n",
       "      <td>30.0</td>\n",
       "      <td>673.0</td>\n",
       "      <td>14.0</td>\n",
       "      <td>111.0</td>\n",
       "      <td>27.0</td>\n",
       "      <td>Hilversum</td>\n",
       "      <td>North Holland</td>\n",
       "      <td>86574.0</td>\n",
       "      <td>1875.0</td>\n",
       "    </tr>\n",
       "    <tr>\n",
       "      <th>178</th>\n",
       "      <td>GM0479</td>\n",
       "      <td>2016JJ00</td>\n",
       "      <td>256.0</td>\n",
       "      <td>169.0</td>\n",
       "      <td>712.0</td>\n",
       "      <td>31.0</td>\n",
       "      <td>14.0</td>\n",
       "      <td>20.0</td>\n",
       "      <td>252.0</td>\n",
       "      <td>59.0</td>\n",
       "      <td>...</td>\n",
       "      <td>442.0</td>\n",
       "      <td>18.0</td>\n",
       "      <td>839.0</td>\n",
       "      <td>47.0</td>\n",
       "      <td>211.0</td>\n",
       "      <td>52.0</td>\n",
       "      <td>Zaanstad</td>\n",
       "      <td>North Holland</td>\n",
       "      <td>150911.0</td>\n",
       "      <td>2007.0</td>\n",
       "    </tr>\n",
       "    <tr>\n",
       "      <th>188</th>\n",
       "      <td>GM0505</td>\n",
       "      <td>2016JJ00</td>\n",
       "      <td>198.0</td>\n",
       "      <td>56.0</td>\n",
       "      <td>757.0</td>\n",
       "      <td>43.0</td>\n",
       "      <td>10.0</td>\n",
       "      <td>54.0</td>\n",
       "      <td>273.0</td>\n",
       "      <td>51.0</td>\n",
       "      <td>...</td>\n",
       "      <td>442.0</td>\n",
       "      <td>42.0</td>\n",
       "      <td>829.0</td>\n",
       "      <td>93.0</td>\n",
       "      <td>96.0</td>\n",
       "      <td>63.0</td>\n",
       "      <td>Dordrecht</td>\n",
       "      <td>South Holland</td>\n",
       "      <td>118716.0</td>\n",
       "      <td>1504.0</td>\n",
       "    </tr>\n",
       "    <tr>\n",
       "      <th>274</th>\n",
       "      <td>GM0794</td>\n",
       "      <td>2016JJ00</td>\n",
       "      <td>279.0</td>\n",
       "      <td>95.0</td>\n",
       "      <td>699.0</td>\n",
       "      <td>24.0</td>\n",
       "      <td>5.0</td>\n",
       "      <td>34.0</td>\n",
       "      <td>313.0</td>\n",
       "      <td>29.0</td>\n",
       "      <td>...</td>\n",
       "      <td>360.0</td>\n",
       "      <td>26.0</td>\n",
       "      <td>577.0</td>\n",
       "      <td>21.0</td>\n",
       "      <td>70.0</td>\n",
       "      <td>54.0</td>\n",
       "      <td>Helmond</td>\n",
       "      <td>North Brabant</td>\n",
       "      <td>89346.0</td>\n",
       "      <td>1668.0</td>\n",
       "    </tr>\n",
       "    <tr>\n",
       "      <th>313</th>\n",
       "      <td>GM0917</td>\n",
       "      <td>2016JJ00</td>\n",
       "      <td>277.0</td>\n",
       "      <td>136.0</td>\n",
       "      <td>619.0</td>\n",
       "      <td>19.0</td>\n",
       "      <td>14.0</td>\n",
       "      <td>36.0</td>\n",
       "      <td>233.0</td>\n",
       "      <td>78.0</td>\n",
       "      <td>...</td>\n",
       "      <td>358.0</td>\n",
       "      <td>28.0</td>\n",
       "      <td>804.0</td>\n",
       "      <td>51.0</td>\n",
       "      <td>104.0</td>\n",
       "      <td>46.0</td>\n",
       "      <td>Heerlen</td>\n",
       "      <td>Limburg</td>\n",
       "      <td>88202.0</td>\n",
       "      <td>1977.0</td>\n",
       "    </tr>\n",
       "    <tr>\n",
       "      <th>325</th>\n",
       "      <td>GM0983</td>\n",
       "      <td>2016JJ00</td>\n",
       "      <td>266.0</td>\n",
       "      <td>123.0</td>\n",
       "      <td>678.0</td>\n",
       "      <td>15.0</td>\n",
       "      <td>16.0</td>\n",
       "      <td>31.0</td>\n",
       "      <td>268.0</td>\n",
       "      <td>42.0</td>\n",
       "      <td>...</td>\n",
       "      <td>377.0</td>\n",
       "      <td>33.0</td>\n",
       "      <td>725.0</td>\n",
       "      <td>42.0</td>\n",
       "      <td>326.0</td>\n",
       "      <td>39.0</td>\n",
       "      <td>Venlo</td>\n",
       "      <td>Limburg</td>\n",
       "      <td>100381.0</td>\n",
       "      <td>800.0</td>\n",
       "    </tr>\n",
       "    <tr>\n",
       "      <th>389</th>\n",
       "      <td>GM1883</td>\n",
       "      <td>2016JJ00</td>\n",
       "      <td>311.0</td>\n",
       "      <td>185.0</td>\n",
       "      <td>544.0</td>\n",
       "      <td>15.0</td>\n",
       "      <td>5.0</td>\n",
       "      <td>26.0</td>\n",
       "      <td>223.0</td>\n",
       "      <td>52.0</td>\n",
       "      <td>...</td>\n",
       "      <td>313.0</td>\n",
       "      <td>8.0</td>\n",
       "      <td>662.0</td>\n",
       "      <td>23.0</td>\n",
       "      <td>124.0</td>\n",
       "      <td>25.0</td>\n",
       "      <td>Sittard-Geleen</td>\n",
       "      <td>Limburg</td>\n",
       "      <td>93806.0</td>\n",
       "      <td>1196.0</td>\n",
       "    </tr>\n",
       "  </tbody>\n",
       "</table>\n",
       "<p>13 rows × 27 columns</p>\n",
       "</div>"
      ],
      "text/plain": [
       "    CBScode  Perioden    HIC: Theft / burglary dwelling, complete  \\\n",
       "30   GM0080  2016JJ00                                       418.0   \n",
       "49   GM0150  2016JJ00                                       259.0   \n",
       "54   GM0164  2016JJ00                                       239.0   \n",
       "65   GM0193  2016JJ00                                       293.0   \n",
       "68   GM0200  2016JJ00                                       392.0   \n",
       "113  GM0307  2016JJ00                                       318.0   \n",
       "156  GM0402  2016JJ00                                       247.0   \n",
       "178  GM0479  2016JJ00                                       256.0   \n",
       "188  GM0505  2016JJ00                                       198.0   \n",
       "274  GM0794  2016JJ00                                       279.0   \n",
       "313  GM0917  2016JJ00                                       277.0   \n",
       "325  GM0983  2016JJ00                                       266.0   \n",
       "389  GM1883  2016JJ00                                       311.0   \n",
       "\n",
       "       HIC: Theft / burglary dwelling, attempts  HIC: Violent Crime  \\\n",
       "30                                        187.0               675.0   \n",
       "49                                        128.0               544.0   \n",
       "54                                         66.0               371.0   \n",
       "65                                        126.0               650.0   \n",
       "68                                        130.0               651.0   \n",
       "113                                       242.0               655.0   \n",
       "156                                       109.0               434.0   \n",
       "178                                       169.0               712.0   \n",
       "188                                        56.0               757.0   \n",
       "274                                        95.0               699.0   \n",
       "313                                       136.0               619.0   \n",
       "325                                       123.0               678.0   \n",
       "389                                       185.0               544.0   \n",
       "\n",
       "     HIC: Street Roof  HIC: Robberies  Undermining public order  Threat  \\\n",
       "30               21.0             5.0                     116.0   252.0   \n",
       "49                7.0             6.0                      25.0   210.0   \n",
       "54                6.0             3.0                      14.0   138.0   \n",
       "65               11.0            12.0                      39.0   247.0   \n",
       "68               20.0             9.0                      43.0   235.0   \n",
       "113              21.0            13.0                      50.0   210.0   \n",
       "156              14.0             5.0                      20.0   157.0   \n",
       "178              31.0            14.0                      20.0   252.0   \n",
       "188              43.0            10.0                      54.0   273.0   \n",
       "274              24.0             5.0                      34.0   313.0   \n",
       "313              19.0            14.0                      36.0   233.0   \n",
       "325              15.0            16.0                      31.0   268.0   \n",
       "389              15.0             5.0                      26.0   223.0   \n",
       "\n",
       "     Fire / Explosion            ...             mistreatment  \\\n",
       "30               34.0            ...                    397.0   \n",
       "49               57.0            ...                    319.0   \n",
       "54               29.0            ...                    213.0   \n",
       "65               38.0            ...                    384.0   \n",
       "68               35.0            ...                    390.0   \n",
       "113              45.0            ...                    398.0   \n",
       "156              25.0            ...                    247.0   \n",
       "178              59.0            ...                    442.0   \n",
       "188              51.0            ...                    442.0   \n",
       "274              29.0            ...                    360.0   \n",
       "313              78.0            ...                    358.0   \n",
       "325              42.0            ...                    377.0   \n",
       "389              52.0            ...                    313.0   \n",
       "\n",
       "     Overt violence (person)  Or destruction. cause damage  Arms Trade  \\\n",
       "30                      26.0                         752.0        36.0   \n",
       "49                      15.0                         570.0        33.0   \n",
       "54                      20.0                         395.0        26.0   \n",
       "65                      19.0                         702.0        32.0   \n",
       "68                      26.0                         873.0        45.0   \n",
       "113                     47.0                         988.0        44.0   \n",
       "156                     30.0                         673.0        14.0   \n",
       "178                     18.0                         839.0        47.0   \n",
       "188                     42.0                         829.0        93.0   \n",
       "274                     26.0                         577.0        21.0   \n",
       "313                     28.0                         804.0        51.0   \n",
       "325                     33.0                         725.0        42.0   \n",
       "389                      8.0                         662.0        23.0   \n",
       "\n",
       "     pickpocketing  morals Felony    Municipality       Province  Population  \\\n",
       "30            83.0           87.0      Leeuwarden      Friesland    108113.0   \n",
       "49            78.0           57.0        Deventer     Overijssel     98327.0   \n",
       "54            44.0           27.0         Hengelo     Overijssel     80975.0   \n",
       "65           142.0           78.0          Zwolle     Overijssel    123211.0   \n",
       "68           142.0           57.0       Apeldoorn     Gelderland    157535.0   \n",
       "113          199.0           46.0      Amersfoort        Utrecht    150943.0   \n",
       "156          111.0           27.0       Hilversum  North Holland     86574.0   \n",
       "178          211.0           52.0        Zaanstad  North Holland    150911.0   \n",
       "188           96.0           63.0       Dordrecht  South Holland    118716.0   \n",
       "274           70.0           54.0         Helmond  North Brabant     89346.0   \n",
       "313          104.0           46.0         Heerlen        Limburg     88202.0   \n",
       "325          326.0           39.0           Venlo        Limburg    100381.0   \n",
       "389          124.0           25.0  Sittard-Geleen        Limburg     93806.0   \n",
       "\n",
       "     Population_density(p/km)  \n",
       "30                      713.0  \n",
       "49                      752.0  \n",
       "54                     1329.0  \n",
       "65                     1091.0  \n",
       "68                      462.0  \n",
       "113                    2358.0  \n",
       "156                    1875.0  \n",
       "178                    2007.0  \n",
       "188                    1504.0  \n",
       "274                    1668.0  \n",
       "313                    1977.0  \n",
       "325                     800.0  \n",
       "389                    1196.0  \n",
       "\n",
       "[13 rows x 27 columns]"
      ]
     },
     "execution_count": 24,
     "metadata": {},
     "output_type": "execute_result"
    }
   ],
   "source": [
    "df_crime_pop.loc[row_ids]"
   ]
  },
  {
   "cell_type": "code",
   "execution_count": null,
   "metadata": {},
   "outputs": [],
   "source": []
  }
 ],
 "metadata": {
  "kernelspec": {
   "display_name": "Python 3",
   "language": "python",
   "name": "python3"
  },
  "language_info": {
   "codemirror_mode": {
    "name": "ipython",
    "version": 3
   },
   "file_extension": ".py",
   "mimetype": "text/x-python",
   "name": "python",
   "nbconvert_exporter": "python",
   "pygments_lexer": "ipython3",
   "version": "3.5.4"
  }
 },
 "nbformat": 4,
 "nbformat_minor": 2
}
